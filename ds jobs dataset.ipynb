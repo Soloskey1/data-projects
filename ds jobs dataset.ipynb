{
 "cells": [
  {
   "cell_type": "markdown",
   "id": "20f22c48-9cc5-420e-bb4d-e1ed6af9804b",
   "metadata": {},
   "source": [
    "[data scienc salary](https://www.kaggle.com/datasets/willianoliveiragibin/salary-data-analist/code)"
   ]
  },
  {
   "cell_type": "markdown",
   "id": "cd79db68-82f5-46f2-bbf6-6afc28812969",
   "metadata": {},
   "source": [
    "# Exploratory Data Analysis of the Data Science Dataset"
   ]
  },
  {
   "cell_type": "code",
   "execution_count": 3,
   "id": "d3b6d72b-d2d1-4f0b-bd9c-d2fa3b0837fc",
   "metadata": {
    "tags": []
   },
   "outputs": [],
   "source": [
    "import pandas as pd\n",
    "import seaborn as sns\n",
    "import numpy as np\n",
    "import matplotlib.pyplot as plt"
   ]
  },
  {
   "cell_type": "code",
   "execution_count": 4,
   "id": "f2f89f2f-2f05-4a01-b396-f234af094f72",
   "metadata": {
    "tags": []
   },
   "outputs": [
    {
     "data": {
      "text/html": [
       "<div>\n",
       "<style scoped>\n",
       "    .dataframe tbody tr th:only-of-type {\n",
       "        vertical-align: middle;\n",
       "    }\n",
       "\n",
       "    .dataframe tbody tr th {\n",
       "        vertical-align: top;\n",
       "    }\n",
       "\n",
       "    .dataframe thead th {\n",
       "        text-align: right;\n",
       "    }\n",
       "</style>\n",
       "<table border=\"1\" class=\"dataframe\">\n",
       "  <thead>\n",
       "    <tr style=\"text-align: right;\">\n",
       "      <th></th>\n",
       "      <th>work_year</th>\n",
       "      <th>experience_level</th>\n",
       "      <th>employment_type</th>\n",
       "      <th>job_title</th>\n",
       "      <th>salary</th>\n",
       "      <th>salary_currency</th>\n",
       "      <th>salary_in_usd</th>\n",
       "      <th>employee_residence</th>\n",
       "      <th>remote_ratio</th>\n",
       "      <th>company_location</th>\n",
       "      <th>company_size</th>\n",
       "    </tr>\n",
       "  </thead>\n",
       "  <tbody>\n",
       "    <tr>\n",
       "      <th>0</th>\n",
       "      <td>2023</td>\n",
       "      <td>SE</td>\n",
       "      <td>FT</td>\n",
       "      <td>Principal Data Scientist</td>\n",
       "      <td>80000</td>\n",
       "      <td>EUR</td>\n",
       "      <td>85847</td>\n",
       "      <td>ES</td>\n",
       "      <td>100</td>\n",
       "      <td>ES</td>\n",
       "      <td>L</td>\n",
       "    </tr>\n",
       "    <tr>\n",
       "      <th>1</th>\n",
       "      <td>2023</td>\n",
       "      <td>MI</td>\n",
       "      <td>CT</td>\n",
       "      <td>ML Engineer</td>\n",
       "      <td>30000</td>\n",
       "      <td>USD</td>\n",
       "      <td>30000</td>\n",
       "      <td>US</td>\n",
       "      <td>100</td>\n",
       "      <td>US</td>\n",
       "      <td>S</td>\n",
       "    </tr>\n",
       "    <tr>\n",
       "      <th>2</th>\n",
       "      <td>2023</td>\n",
       "      <td>MI</td>\n",
       "      <td>CT</td>\n",
       "      <td>ML Engineer</td>\n",
       "      <td>25500</td>\n",
       "      <td>USD</td>\n",
       "      <td>25500</td>\n",
       "      <td>US</td>\n",
       "      <td>100</td>\n",
       "      <td>US</td>\n",
       "      <td>S</td>\n",
       "    </tr>\n",
       "    <tr>\n",
       "      <th>3</th>\n",
       "      <td>2023</td>\n",
       "      <td>SE</td>\n",
       "      <td>FT</td>\n",
       "      <td>Data Scientist</td>\n",
       "      <td>175000</td>\n",
       "      <td>USD</td>\n",
       "      <td>175000</td>\n",
       "      <td>CA</td>\n",
       "      <td>100</td>\n",
       "      <td>CA</td>\n",
       "      <td>M</td>\n",
       "    </tr>\n",
       "    <tr>\n",
       "      <th>4</th>\n",
       "      <td>2023</td>\n",
       "      <td>SE</td>\n",
       "      <td>FT</td>\n",
       "      <td>Data Scientist</td>\n",
       "      <td>120000</td>\n",
       "      <td>USD</td>\n",
       "      <td>120000</td>\n",
       "      <td>CA</td>\n",
       "      <td>100</td>\n",
       "      <td>CA</td>\n",
       "      <td>M</td>\n",
       "    </tr>\n",
       "  </tbody>\n",
       "</table>\n",
       "</div>"
      ],
      "text/plain": [
       "   work_year experience_level employment_type                 job_title  \\\n",
       "0       2023               SE              FT  Principal Data Scientist   \n",
       "1       2023               MI              CT               ML Engineer   \n",
       "2       2023               MI              CT               ML Engineer   \n",
       "3       2023               SE              FT            Data Scientist   \n",
       "4       2023               SE              FT            Data Scientist   \n",
       "\n",
       "   salary salary_currency  salary_in_usd employee_residence  remote_ratio  \\\n",
       "0   80000             EUR          85847                 ES           100   \n",
       "1   30000             USD          30000                 US           100   \n",
       "2   25500             USD          25500                 US           100   \n",
       "3  175000             USD         175000                 CA           100   \n",
       "4  120000             USD         120000                 CA           100   \n",
       "\n",
       "  company_location company_size  \n",
       "0               ES            L  \n",
       "1               US            S  \n",
       "2               US            S  \n",
       "3               CA            M  \n",
       "4               CA            M  "
      ]
     },
     "execution_count": 4,
     "metadata": {},
     "output_type": "execute_result"
    }
   ],
   "source": [
    "df = pd.read_csv('C:/Users/DAVID/Desktop/USE THIS DATASET/ds_salaries.csv')\n",
    "df.head()"
   ]
  },
  {
   "cell_type": "code",
   "execution_count": 5,
   "id": "ddb1f17c-da02-431e-a968-d56392118d1e",
   "metadata": {
    "tags": []
   },
   "outputs": [
    {
     "data": {
      "text/plain": [
       "(3755, 11)"
      ]
     },
     "execution_count": 5,
     "metadata": {},
     "output_type": "execute_result"
    }
   ],
   "source": [
    "df.shape"
   ]
  },
  {
   "cell_type": "code",
   "execution_count": 6,
   "id": "300bce35-4d16-4c92-a835-87e877462a31",
   "metadata": {
    "tags": []
   },
   "outputs": [
    {
     "data": {
      "text/plain": [
       "work_year              int64\n",
       "experience_level      object\n",
       "employment_type       object\n",
       "job_title             object\n",
       "salary                 int64\n",
       "salary_currency       object\n",
       "salary_in_usd          int64\n",
       "employee_residence    object\n",
       "remote_ratio           int64\n",
       "company_location      object\n",
       "company_size          object\n",
       "dtype: object"
      ]
     },
     "execution_count": 6,
     "metadata": {},
     "output_type": "execute_result"
    }
   ],
   "source": [
    "df.dtypes"
   ]
  },
  {
   "cell_type": "code",
   "execution_count": 44,
   "id": "a5816ea2-413d-4722-8733-a9a23c96e2e8",
   "metadata": {
    "tags": []
   },
   "outputs": [
    {
     "data": {
      "text/html": [
       "<div>\n",
       "<style scoped>\n",
       "    .dataframe tbody tr th:only-of-type {\n",
       "        vertical-align: middle;\n",
       "    }\n",
       "\n",
       "    .dataframe tbody tr th {\n",
       "        vertical-align: top;\n",
       "    }\n",
       "\n",
       "    .dataframe thead th {\n",
       "        text-align: right;\n",
       "    }\n",
       "</style>\n",
       "<table border=\"1\" class=\"dataframe\">\n",
       "  <thead>\n",
       "    <tr style=\"text-align: right;\">\n",
       "      <th></th>\n",
       "      <th>work_year</th>\n",
       "      <th>salary</th>\n",
       "      <th>salary_in_usd</th>\n",
       "      <th>remote_ratio</th>\n",
       "    </tr>\n",
       "  </thead>\n",
       "  <tbody>\n",
       "    <tr>\n",
       "      <th>count</th>\n",
       "      <td>3755.000000</td>\n",
       "      <td>3.755000e+03</td>\n",
       "      <td>3755.000000</td>\n",
       "      <td>3755.000000</td>\n",
       "    </tr>\n",
       "    <tr>\n",
       "      <th>mean</th>\n",
       "      <td>2022.373635</td>\n",
       "      <td>1.906956e+05</td>\n",
       "      <td>137570.389880</td>\n",
       "      <td>46.271638</td>\n",
       "    </tr>\n",
       "    <tr>\n",
       "      <th>std</th>\n",
       "      <td>0.691448</td>\n",
       "      <td>6.716765e+05</td>\n",
       "      <td>63055.625278</td>\n",
       "      <td>48.589050</td>\n",
       "    </tr>\n",
       "    <tr>\n",
       "      <th>min</th>\n",
       "      <td>2020.000000</td>\n",
       "      <td>6.000000e+03</td>\n",
       "      <td>5132.000000</td>\n",
       "      <td>0.000000</td>\n",
       "    </tr>\n",
       "    <tr>\n",
       "      <th>25%</th>\n",
       "      <td>2022.000000</td>\n",
       "      <td>1.000000e+05</td>\n",
       "      <td>95000.000000</td>\n",
       "      <td>0.000000</td>\n",
       "    </tr>\n",
       "    <tr>\n",
       "      <th>50%</th>\n",
       "      <td>2022.000000</td>\n",
       "      <td>1.380000e+05</td>\n",
       "      <td>135000.000000</td>\n",
       "      <td>0.000000</td>\n",
       "    </tr>\n",
       "    <tr>\n",
       "      <th>75%</th>\n",
       "      <td>2023.000000</td>\n",
       "      <td>1.800000e+05</td>\n",
       "      <td>175000.000000</td>\n",
       "      <td>100.000000</td>\n",
       "    </tr>\n",
       "    <tr>\n",
       "      <th>max</th>\n",
       "      <td>2023.000000</td>\n",
       "      <td>3.040000e+07</td>\n",
       "      <td>450000.000000</td>\n",
       "      <td>100.000000</td>\n",
       "    </tr>\n",
       "  </tbody>\n",
       "</table>\n",
       "</div>"
      ],
      "text/plain": [
       "         work_year        salary  salary_in_usd  remote_ratio\n",
       "count  3755.000000  3.755000e+03    3755.000000   3755.000000\n",
       "mean   2022.373635  1.906956e+05  137570.389880     46.271638\n",
       "std       0.691448  6.716765e+05   63055.625278     48.589050\n",
       "min    2020.000000  6.000000e+03    5132.000000      0.000000\n",
       "25%    2022.000000  1.000000e+05   95000.000000      0.000000\n",
       "50%    2022.000000  1.380000e+05  135000.000000      0.000000\n",
       "75%    2023.000000  1.800000e+05  175000.000000    100.000000\n",
       "max    2023.000000  3.040000e+07  450000.000000    100.000000"
      ]
     },
     "execution_count": 44,
     "metadata": {},
     "output_type": "execute_result"
    }
   ],
   "source": [
    "df.describe()"
   ]
  },
  {
   "cell_type": "code",
   "execution_count": 7,
   "id": "10aae93e-530c-4b2b-b43d-7fa5b145c28e",
   "metadata": {
    "tags": []
   },
   "outputs": [
    {
     "data": {
      "text/plain": [
       "work_year             0.0\n",
       "experience_level        0\n",
       "employment_type         0\n",
       "job_title               0\n",
       "salary                0.0\n",
       "salary_currency         0\n",
       "salary_in_usd         0.0\n",
       "employee_residence      0\n",
       "remote_ratio          0.0\n",
       "company_location        0\n",
       "company_size            0\n",
       "dtype: object"
      ]
     },
     "execution_count": 7,
     "metadata": {},
     "output_type": "execute_result"
    }
   ],
   "source": [
    "# check for null values\n",
    "df[df.isnull()].sum()"
   ]
  },
  {
   "cell_type": "raw",
   "id": "c26e610d-34f1-46ec-8697-98033e47d6f3",
   "metadata": {},
   "source": [
    "The dataset has no null values"
   ]
  },
  {
   "cell_type": "code",
   "execution_count": 8,
   "id": "e73b0f53-7c1c-4f01-ac4c-c012a337f236",
   "metadata": {
    "tags": []
   },
   "outputs": [
    {
     "data": {
      "text/plain": [
       "array(['Principal Data Scientist', 'ML Engineer', 'Data Scientist',\n",
       "       'Applied Scientist', 'Data Analyst', 'Data Modeler',\n",
       "       'Research Engineer', 'Analytics Engineer',\n",
       "       'Business Intelligence Engineer', 'Machine Learning Engineer',\n",
       "       'Data Strategist', 'Data Engineer', 'Computer Vision Engineer',\n",
       "       'Data Quality Analyst', 'Compliance Data Analyst',\n",
       "       'Data Architect', 'Applied Machine Learning Engineer',\n",
       "       'AI Developer', 'Research Scientist', 'Data Analytics Manager',\n",
       "       'Business Data Analyst', 'Applied Data Scientist',\n",
       "       'Staff Data Analyst', 'ETL Engineer', 'Data DevOps Engineer',\n",
       "       'Head of Data', 'Data Science Manager', 'Data Manager',\n",
       "       'Machine Learning Researcher', 'Big Data Engineer',\n",
       "       'Data Specialist', 'Lead Data Analyst', 'BI Data Engineer',\n",
       "       'Director of Data Science', 'Machine Learning Scientist',\n",
       "       'MLOps Engineer', 'AI Scientist', 'Autonomous Vehicle Technician',\n",
       "       'Applied Machine Learning Scientist', 'Lead Data Scientist',\n",
       "       'Cloud Database Engineer', 'Financial Data Analyst',\n",
       "       'Data Infrastructure Engineer', 'Software Data Engineer',\n",
       "       'AI Programmer', 'Data Operations Engineer', 'BI Developer',\n",
       "       'Data Science Lead', 'Deep Learning Researcher', 'BI Analyst',\n",
       "       'Data Science Consultant', 'Data Analytics Specialist',\n",
       "       'Machine Learning Infrastructure Engineer', 'BI Data Analyst',\n",
       "       'Head of Data Science', 'Insight Analyst',\n",
       "       'Deep Learning Engineer', 'Machine Learning Software Engineer',\n",
       "       'Big Data Architect', 'Product Data Analyst',\n",
       "       'Computer Vision Software Engineer', 'Azure Data Engineer',\n",
       "       'Marketing Data Engineer', 'Data Analytics Lead', 'Data Lead',\n",
       "       'Data Science Engineer', 'Machine Learning Research Engineer',\n",
       "       'NLP Engineer', 'Manager Data Management',\n",
       "       'Machine Learning Developer', '3D Computer Vision Researcher',\n",
       "       'Principal Machine Learning Engineer', 'Data Analytics Engineer',\n",
       "       'Data Analytics Consultant', 'Data Management Specialist',\n",
       "       'Data Science Tech Lead', 'Data Scientist Lead',\n",
       "       'Cloud Data Engineer', 'Data Operations Analyst',\n",
       "       'Marketing Data Analyst', 'Power BI Developer',\n",
       "       'Product Data Scientist', 'Principal Data Architect',\n",
       "       'Machine Learning Manager', 'Lead Machine Learning Engineer',\n",
       "       'ETL Developer', 'Cloud Data Architect', 'Lead Data Engineer',\n",
       "       'Head of Machine Learning', 'Principal Data Analyst',\n",
       "       'Principal Data Engineer', 'Staff Data Scientist',\n",
       "       'Finance Data Analyst'], dtype=object)"
      ]
     },
     "execution_count": 8,
     "metadata": {},
     "output_type": "execute_result"
    }
   ],
   "source": [
    "# the number of job available in data science field.\n",
    "unique = df['job_title'].unique()\n",
    "unique"
   ]
  },
  {
   "cell_type": "code",
   "execution_count": 9,
   "id": "0f716a4f-a813-41a0-bd84-b439c9bd9006",
   "metadata": {
    "tags": []
   },
   "outputs": [
    {
     "name": "stdout",
     "output_type": "stream",
     "text": [
      "There are 93 different jobs in data science\n"
     ]
    }
   ],
   "source": [
    "# give the result of how  many interviewees in each job titles is in the data\n",
    "unique_job_titles = df['job_title'].unique()\n",
    "unique_job_titles = len(unique_job_titles)\n",
    "print(f'There are {unique_job_titles} different jobs in data science')"
   ]
  },
  {
   "cell_type": "code",
   "execution_count": 10,
   "id": "b4e16bb3-5588-4270-98d3-9d3e5f7420d4",
   "metadata": {
    "tags": []
   },
   "outputs": [
    {
     "data": {
      "text/plain": [
       "job_title\n",
       "3D Computer Vision Researcher     21352.250000\n",
       "AI Developer                     136666.090909\n",
       "AI Programmer                     55000.000000\n",
       "AI Scientist                     110120.875000\n",
       "Analytics Engineer               152368.631068\n",
       "                                     ...      \n",
       "Research Engineer                163108.378378\n",
       "Research Scientist               161214.195122\n",
       "Software Data Engineer            62510.000000\n",
       "Staff Data Analyst                15000.000000\n",
       "Staff Data Scientist             105000.000000\n",
       "Name: salary_in_usd, Length: 93, dtype: float64"
      ]
     },
     "execution_count": 10,
     "metadata": {},
     "output_type": "execute_result"
    }
   ],
   "source": [
    "# average salary earned by different field \n",
    "mean_salary_by_job_tile = df.groupby('job_title')['salary_in_usd'].mean()\n",
    "mean_salary_by_job_tile"
   ]
  },
  {
   "cell_type": "code",
   "execution_count": 11,
   "id": "cd42263e-dbcb-487a-ad5f-b3fb7695707b",
   "metadata": {
    "tags": []
   },
   "outputs": [
    {
     "name": "stdout",
     "output_type": "stream",
     "text": [
      "The average  salary of ML Engineer in usd is $158352.44\n"
     ]
    }
   ],
   "source": [
    "# this piece of can be used to the check the average salary in each job tialary_in_usd'].agg('mean')tle in usd\n",
    "jobs = df.groupby('job_title')['salary_in_usd'].agg('mean')\n",
    "\n",
    "# for example to check the mean salary of an ML Engineer\n",
    "ml_engineer = np.round(jobs['ML Engineer'], decimals=2)\n",
    "print(f'The average  salary of ML Engineer in usd is ${ml_engineer}')"
   ]
  },
  {
   "cell_type": "code",
   "execution_count": 12,
   "id": "9be3574f-2c35-4c3f-885a-e664591eefbc",
   "metadata": {
    "tags": []
   },
   "outputs": [
    {
     "name": "stdout",
     "output_type": "stream",
     "text": [
      "                       mean  count\n",
      "company_size                      \n",
      "L             118300.982379    454\n",
      "M             143130.548367   3153\n",
      "S              78226.682432    148\n"
     ]
    }
   ],
   "source": [
    "# average salary per company size\n",
    "mean_salry_by_company_size = df.groupby('company_size')['salary_in_usd'].agg(['mean', 'count'])\n",
    "print(mean_salry_by_company_size)"
   ]
  },
  {
   "cell_type": "code",
   "execution_count": 26,
   "id": "b5f4f24f-4c2d-4777-936a-df15638e0471",
   "metadata": {
    "tags": []
   },
   "outputs": [
    {
     "data": {
      "text/html": [
       "<div>\n",
       "<style scoped>\n",
       "    .dataframe tbody tr th:only-of-type {\n",
       "        vertical-align: middle;\n",
       "    }\n",
       "\n",
       "    .dataframe tbody tr th {\n",
       "        vertical-align: top;\n",
       "    }\n",
       "\n",
       "    .dataframe thead th {\n",
       "        text-align: right;\n",
       "    }\n",
       "</style>\n",
       "<table border=\"1\" class=\"dataframe\">\n",
       "  <thead>\n",
       "    <tr style=\"text-align: right;\">\n",
       "      <th></th>\n",
       "      <th>mean</th>\n",
       "      <th>count</th>\n",
       "    </tr>\n",
       "    <tr>\n",
       "      <th>company_location</th>\n",
       "      <th></th>\n",
       "      <th></th>\n",
       "    </tr>\n",
       "  </thead>\n",
       "  <tbody>\n",
       "    <tr>\n",
       "      <th>IL</th>\n",
       "      <td>271446.500000</td>\n",
       "      <td>2</td>\n",
       "    </tr>\n",
       "    <tr>\n",
       "      <th>PR</th>\n",
       "      <td>167500.000000</td>\n",
       "      <td>4</td>\n",
       "    </tr>\n",
       "    <tr>\n",
       "      <th>US</th>\n",
       "      <td>151822.009539</td>\n",
       "      <td>3040</td>\n",
       "    </tr>\n",
       "    <tr>\n",
       "      <th>RU</th>\n",
       "      <td>140333.333333</td>\n",
       "      <td>3</td>\n",
       "    </tr>\n",
       "    <tr>\n",
       "      <th>CA</th>\n",
       "      <td>131917.689655</td>\n",
       "      <td>87</td>\n",
       "    </tr>\n",
       "    <tr>\n",
       "      <th>...</th>\n",
       "      <td>...</td>\n",
       "      <td>...</td>\n",
       "    </tr>\n",
       "    <tr>\n",
       "      <th>VN</th>\n",
       "      <td>12000.000000</td>\n",
       "      <td>1</td>\n",
       "    </tr>\n",
       "    <tr>\n",
       "      <th>AL</th>\n",
       "      <td>10000.000000</td>\n",
       "      <td>1</td>\n",
       "    </tr>\n",
       "    <tr>\n",
       "      <th>MA</th>\n",
       "      <td>10000.000000</td>\n",
       "      <td>1</td>\n",
       "    </tr>\n",
       "    <tr>\n",
       "      <th>BO</th>\n",
       "      <td>7500.000000</td>\n",
       "      <td>1</td>\n",
       "    </tr>\n",
       "    <tr>\n",
       "      <th>MK</th>\n",
       "      <td>6304.000000</td>\n",
       "      <td>1</td>\n",
       "    </tr>\n",
       "  </tbody>\n",
       "</table>\n",
       "<p>72 rows × 2 columns</p>\n",
       "</div>"
      ],
      "text/plain": [
       "                           mean  count\n",
       "company_location                      \n",
       "IL                271446.500000      2\n",
       "PR                167500.000000      4\n",
       "US                151822.009539   3040\n",
       "RU                140333.333333      3\n",
       "CA                131917.689655     87\n",
       "...                         ...    ...\n",
       "VN                 12000.000000      1\n",
       "AL                 10000.000000      1\n",
       "MA                 10000.000000      1\n",
       "BO                  7500.000000      1\n",
       "MK                  6304.000000      1\n",
       "\n",
       "[72 rows x 2 columns]"
      ]
     },
     "execution_count": 26,
     "metadata": {},
     "output_type": "execute_result"
    }
   ],
   "source": [
    "# average salary by country\n",
    "mean_salary_by_company_location = df.groupby('company_location')['salary_in_usd'].agg(['mean', 'count'])\n",
    "mean_salary_by_company_location.sort_values(by='mean', ascending=False)"
   ]
  },
  {
   "cell_type": "code",
   "execution_count": 14,
   "id": "4745f58d-c0b5-4347-a2e7-17dd114defba",
   "metadata": {
    "tags": []
   },
   "outputs": [
    {
     "data": {
      "image/png": "[encoded data removed]",
      "text/plain": [
       "<Figure size 2500x1800 with 1 Axes>"
      ]
     },
     "metadata": {},
     "output_type": "display_data"
    }
   ],
   "source": [
    "#graph between company location versus mean salary\n",
    "plt.figure(figsize = (25,18))\n",
    "plt.bar(mean_salary_by_country.index, mean_salary_by_country['mean'], color = 'blue')\n",
    "plt.xlabel('mean salary')\n",
    "plt.ylabel('country')\n",
    "plt.tight_layout()"
   ]
  },
  {
   "cell_type": "code",
   "execution_count": 60,
   "id": "1a563b5f-b8a8-4931-9e63-2793fba6ab9e",
   "metadata": {
    "tags": []
   },
   "outputs": [
    {
     "data": {
      "application/vnd.plotly.v1+json": {
       "config": {
        "plotlyServerURL": "https://plot.ly"
       },
       "data": [
        {
         "branchvalues": "total",
         "domain": {
          "x": [
           0,
           1
          ],
          "y": [
           0,
           1
          ]
         },
         "hovertemplate": "labels=%{label}<br>salary_in_usd=%{value}<br>parent=%{parent}<br>id=%{id}<extra></extra>",
         "ids": [
          "AL/3D Computer Vision Researcher",
          "AS/3D Computer Vision Researcher",
          "CR/3D Computer Vision Researcher",
          "IN/3D Computer Vision Researcher",
          "BA/AI Developer",
          "CA/AI Developer",
          "DE/AI Developer",
          "FI/AI Developer",
          "IN/AI Developer",
          "MK/AI Developer",
          "SE/AI Developer",
          "UA/AI Developer",
          "US/AI Developer",
          "AU/AI Programmer",
          "AS/AI Scientist",
          "CA/AI Scientist",
          "CO/AI Scientist",
          "DK/AI Scientist",
          "ES/AI Scientist",
          "GH/AI Scientist",
          "IL/AI Scientist",
          "US/AI Scientist",
          "BO/Analytics Engineer",
          "BR/Analytics Engineer",
          "GB/Analytics Engineer",
          "US/Analytics Engineer",
          "AT/Applied Data Scientist",
          "CA/Applied Data Scientist",
          "FI/Applied Data Scientist",
          "GB/Applied Data Scientist",
          "IN/Applied Data Scientist",
          "KE/Applied Data Scientist",
          "PK/Applied Data Scientist",
          "US/Applied Data Scientist",
          "DE/Applied Machine Learning Engineer",
          "US/Applied Machine Learning Engineer",
          "CZ/Applied Machine Learning Scientist",
          "DE/Applied Machine Learning Scientist",
          "GB/Applied Machine Learning Scientist",
          "IN/Applied Machine Learning Scientist",
          "US/Applied Machine Learning Scientist",
          "US/Applied Scientist",
          "BS/Autonomous Vehicle Technician",
          "GH/Autonomous Vehicle Technician",
          "NL/Azure Data Engineer",
          "BR/BI Analyst",
          "NG/BI Analyst",
          "US/BI Analyst",
          "AU/BI Data Analyst",
          "BR/BI Data Analyst",
          "DE/BI Data Analyst",
          "FR/BI Data Analyst",
          "IN/BI Data Analyst",
          "KE/BI Data Analyst",
          "US/BI Data Analyst",
          "US/BI Data Engineer",
          "US/BI Developer",
          "CA/Big Data Architect",
          "GB/Big Data Architect",
          "CA/Big Data Engineer",
          "CH/Big Data Engineer",
          "ES/Big Data Engineer",
          "GB/Big Data Engineer",
          "IN/Big Data Engineer",
          "MD/Big Data Engineer",
          "RO/Big Data Engineer",
          "SE/Big Data Engineer",
          "US/Big Data Engineer",
          "AS/Business Data Analyst",
          "BR/Business Data Analyst",
          "CA/Business Data Analyst",
          "ES/Business Data Analyst",
          "GR/Business Data Analyst",
          "IN/Business Data Analyst",
          "LU/Business Data Analyst",
          "US/Business Data Analyst",
          "US/Business Intelligence Engineer",
          "US/Cloud Data Architect",
          "SG/Cloud Data Engineer",
          "SK/Cloud Data Engineer",
          "US/Cloud Data Engineer",
          "US/Cloud Database Engineer",
          "NG/Compliance Data Analyst",
          "BR/Computer Vision Engineer",
          "DK/Computer Vision Engineer",
          "FR/Computer Vision Engineer",
          "IN/Computer Vision Engineer",
          "LU/Computer Vision Engineer",
          "US/Computer Vision Engineer",
          "AU/Computer Vision Software Engineer",
          "CA/Computer Vision Software Engineer",
          "DK/Computer Vision Software Engineer",
          "US/Computer Vision Software Engineer",
          "AR/Data Analyst",
          "AU/Data Analyst",
          "BR/Data Analyst",
          "CA/Data Analyst",
          "CF/Data Analyst",
          "DE/Data Analyst",
          "ES/Data Analyst",
          "FR/Data Analyst",
          "GB/Data Analyst",
          "GR/Data Analyst",
          "HR/Data Analyst",
          "ID/Data Analyst",
          "IN/Data Analyst",
          "NG/Data Analyst",
          "PH/Data Analyst",
          "PK/Data Analyst",
          "PT/Data Analyst",
          "SG/Data Analyst",
          "US/Data Analyst",
          "US/Data Analytics Consultant",
          "AR/Data Analytics Engineer",
          "DE/Data Analytics Engineer",
          "GB/Data Analytics Engineer",
          "PK/Data Analytics Engineer",
          "US/Data Analytics Engineer",
          "SG/Data Analytics Lead",
          "US/Data Analytics Lead",
          "NL/Data Analytics Manager",
          "US/Data Analytics Manager",
          "US/Data Analytics Specialist",
          "CA/Data Architect",
          "GB/Data Architect",
          "US/Data Architect",
          "FR/Data DevOps Engineer",
          "AT/Data Engineer",
          "AU/Data Engineer",
          "BR/Data Engineer",
          "CA/Data Engineer",
          "DE/Data Engineer",
          "ES/Data Engineer",
          "FR/Data Engineer",
          "GB/Data Engineer",
          "GR/Data Engineer",
          "IE/Data Engineer",
          "IN/Data Engineer",
          "JP/Data Engineer",
          "LT/Data Engineer",
          "MT/Data Engineer",
          "MX/Data Engineer",
          "NL/Data Engineer",
          "PL/Data Engineer",
          "PR/Data Engineer",
          "PT/Data Engineer",
          "SI/Data Engineer",
          "TR/Data Engineer",
          "US/Data Engineer",
          "VN/Data Engineer",
          "US/Data Infrastructure Engineer",
          "US/Data Lead",
          "IT/Data Management Specialist",
          "CA/Data Manager",
          "CO/Data Manager",
          "GB/Data Manager",
          "US/Data Manager",
          "US/Data Modeler",
          "US/Data Operations Analyst",
          "US/Data Operations Engineer",
          "NG/Data Quality Analyst",
          "US/Data Quality Analyst",
          "DE/Data Science Consultant",
          "ES/Data Science Consultant",
          "GB/Data Science Consultant",
          "IN/Data Science Consultant",
          "IT/Data Science Consultant",
          "TH/Data Science Consultant",
          "US/Data Science Consultant",
          "CA/Data Science Engineer",
          "GR/Data Science Engineer",
          "MX/Data Science Engineer",
          "US/Data Science Engineer",
          "GB/Data Science Lead",
          "US/Data Science Lead",
          "AU/Data Science Manager",
          "FR/Data Science Manager",
          "IN/Data Science Manager",
          "MX/Data Science Manager",
          "RU/Data Science Manager",
          "US/Data Science Manager",
          "US/Data Science Tech Lead",
          "AT/Data Scientist",
          "AU/Data Scientist",
          "BE/Data Scientist",
          "BR/Data Scientist",
          "CA/Data Scientist",
          "CH/Data Scientist",
          "CL/Data Scientist",
          "DE/Data Scientist",
          "DZ/Data Scientist",
          "EE/Data Scientist",
          "ES/Data Scientist",
          "FR/Data Scientist",
          "GB/Data Scientist",
          "HK/Data Scientist",
          "HU/Data Scientist",
          "ID/Data Scientist",
          "IE/Data Scientist",
          "IL/Data Scientist",
          "IN/Data Scientist",
          "IT/Data Scientist",
          "LU/Data Scientist",
          "LV/Data Scientist",
          "MX/Data Scientist",
          "MY/Data Scientist",
          "NG/Data Scientist",
          "NL/Data Scientist",
          "PL/Data Scientist",
          "RO/Data Scientist",
          "TH/Data Scientist",
          "TR/Data Scientist",
          "UA/Data Scientist",
          "US/Data Scientist",
          "AT/Data Scientist Lead",
          "US/Data Scientist Lead",
          "US/Data Specialist",
          "CA/Data Strategist",
          "GB/Deep Learning Engineer",
          "US/Deep Learning Engineer",
          "DE/Deep Learning Researcher",
          "CA/Director of Data Science",
          "DE/Director of Data Science",
          "FR/Director of Data Science",
          "JP/Director of Data Science",
          "PL/Director of Data Science",
          "US/Director of Data Science",
          "GR/ETL Developer",
          "US/ETL Developer",
          "GB/ETL Engineer",
          "GB/Finance Data Analyst",
          "US/Financial Data Analyst",
          "EE/Head of Data",
          "PT/Head of Data",
          "RU/Head of Data",
          "SI/Head of Data",
          "US/Head of Data",
          "GB/Head of Data Science",
          "IN/Head of Data Science",
          "RU/Head of Data Science",
          "US/Head of Data Science",
          "IN/Head of Machine Learning",
          "GB/Insight Analyst",
          "IN/Lead Data Analyst",
          "US/Lead Data Analyst",
          "CA/Lead Data Engineer",
          "GB/Lead Data Engineer",
          "NZ/Lead Data Engineer",
          "US/Lead Data Engineer",
          "AE/Lead Data Scientist",
          "GB/Lead Data Scientist",
          "IE/Lead Data Scientist",
          "IN/Lead Data Scientist",
          "PT/Lead Data Scientist",
          "US/Lead Data Scientist",
          "DE/Lead Machine Learning Engineer",
          "IN/Lead Machine Learning Engineer",
          "PT/Lead Machine Learning Engineer",
          "CA/ML Engineer",
          "DE/ML Engineer",
          "JP/ML Engineer",
          "PT/ML Engineer",
          "US/ML Engineer",
          "US/MLOps Engineer",
          "AU/Machine Learning Developer",
          "CA/Machine Learning Developer",
          "DE/Machine Learning Developer",
          "IQ/Machine Learning Developer",
          "TH/Machine Learning Developer",
          "US/Machine Learning Developer",
          "AE/Machine Learning Engineer",
          "AM/Machine Learning Engineer",
          "AR/Machine Learning Engineer",
          "AU/Machine Learning Engineer",
          "BE/Machine Learning Engineer",
          "CA/Machine Learning Engineer",
          "CH/Machine Learning Engineer",
          "CO/Machine Learning Engineer",
          "DE/Machine Learning Engineer",
          "ES/Machine Learning Engineer",
          "FI/Machine Learning Engineer",
          "FR/Machine Learning Engineer",
          "GB/Machine Learning Engineer",
          "HR/Machine Learning Engineer",
          "IE/Machine Learning Engineer",
          "IN/Machine Learning Engineer",
          "IR/Machine Learning Engineer",
          "IT/Machine Learning Engineer",
          "JP/Machine Learning Engineer",
          "LV/Machine Learning Engineer",
          "MX/Machine Learning Engineer",
          "NL/Machine Learning Engineer",
          "PL/Machine Learning Engineer",
          "PR/Machine Learning Engineer",
          "SI/Machine Learning Engineer",
          "US/Machine Learning Engineer",
          "FR/Machine Learning Infrastructure Engineer",
          "PT/Machine Learning Infrastructure Engineer",
          "US/Machine Learning Infrastructure Engineer",
          "CA/Machine Learning Manager",
          "US/Machine Learning Manager",
          "DE/Machine Learning Research Engineer",
          "FR/Machine Learning Research Engineer",
          "GB/Machine Learning Research Engineer",
          "IN/Machine Learning Research Engineer",
          "CA/Machine Learning Researcher",
          "UA/Machine Learning Researcher",
          "US/Machine Learning Researcher",
          "CA/Machine Learning Scientist",
          "DE/Machine Learning Scientist",
          "EG/Machine Learning Scientist",
          "JP/Machine Learning Scientist",
          "PK/Machine Learning Scientist",
          "US/Machine Learning Scientist",
          "CA/Machine Learning Software Engineer",
          "MA/Machine Learning Software Engineer",
          "US/Machine Learning Software Engineer",
          "US/Manager Data Management",
          "DK/Marketing Data Analyst",
          "GB/Marketing Data Analyst",
          "SG/Marketing Data Engineer",
          "CZ/NLP Engineer",
          "PL/NLP Engineer",
          "US/NLP Engineer",
          "IN/Power BI Developer",
          "CA/Principal Data Analyst",
          "US/Principal Data Analyst",
          "IN/Principal Data Architect",
          "US/Principal Data Engineer",
          "DE/Principal Data Scientist",
          "ES/Principal Data Scientist",
          "US/Principal Data Scientist",
          "US/Principal Machine Learning Engineer",
          "HN/Product Data Analyst",
          "IN/Product Data Analyst",
          "US/Product Data Analyst",
          "SG/Product Data Scientist",
          "DE/Research Engineer",
          "GB/Research Engineer",
          "US/Research Engineer",
          "AT/Research Scientist",
          "CA/Research Scientist",
          "CN/Research Scientist",
          "CZ/Research Scientist",
          "DE/Research Scientist",
          "ES/Research Scientist",
          "FR/Research Scientist",
          "GB/Research Scientist",
          "IN/Research Scientist",
          "NL/Research Scientist",
          "PT/Research Scientist",
          "US/Research Scientist",
          "AU/Software Data Engineer",
          "SG/Software Data Engineer",
          "CA/Staff Data Analyst",
          "US/Staff Data Scientist",
          "AE",
          "AL",
          "AM",
          "AR",
          "AS",
          "AT",
          "AU",
          "BA",
          "BE",
          "BO",
          "BR",
          "BS",
          "CA",
          "CF",
          "CH",
          "CL",
          "CN",
          "CO",
          "CR",
          "CZ",
          "DE",
          "DK",
          "DZ",
          "EE",
          "EG",
          "ES",
          "FI",
          "FR",
          "GB",
          "GH",
          "GR",
          "HK",
          "HN",
          "HR",
          "HU",
          "ID",
          "IE",
          "IL",
          "IN",
          "IQ",
          "IR",
          "IT",
          "JP",
          "KE",
          "LT",
          "LU",
          "LV",
          "MA",
          "MD",
          "MK",
          "MT",
          "MX",
          "MY",
          "NG",
          "NL",
          "NZ",
          "PH",
          "PK",
          "PL",
          "PR",
          "PT",
          "RO",
          "RU",
          "SE",
          "SG",
          "SI",
          "SK",
          "TH",
          "TR",
          "UA",
          "US",
          "VN"
         ],
         "labels": [
          "3D Computer Vision Researcher",
          "3D Computer Vision Researcher",
          "3D Computer Vision Researcher",
          "3D Computer Vision Researcher",
          "AI Developer",
          "AI Developer",
          "AI Developer",
          "AI Developer",
          "AI Developer",
          "AI Developer",
          "AI Developer",
          "AI Developer",
          "AI Developer",
          "AI Programmer",
          "AI Scientist",
          "AI Scientist",
          "AI Scientist",
          "AI Scientist",
          "AI Scientist",
          "AI Scientist",
          "AI Scientist",
          "AI Scientist",
          "Analytics Engineer",
          "Analytics Engineer",
          "Analytics Engineer",
          "Analytics Engineer",
          "Applied Data Scientist",
          "Applied Data Scientist",
          "Applied Data Scientist",
          "Applied Data Scientist",
          "Applied Data Scientist",
          "Applied Data Scientist",
          "Applied Data Scientist",
          "Applied Data Scientist",
          "Applied Machine Learning Engineer",
          "Applied Machine Learning Engineer",
          "Applied Machine Learning Scientist",
          "Applied Machine Learning Scientist",
          "Applied Machine Learning Scientist",
          "Applied Machine Learning Scientist",
          "Applied Machine Learning Scientist",
          "Applied Scientist",
          "Autonomous Vehicle Technician",
          "Autonomous Vehicle Technician",
          "Azure Data Engineer",
          "BI Analyst",
          "BI Analyst",
          "BI Analyst",
          "BI Data Analyst",
          "BI Data Analyst",
          "BI Data Analyst",
          "BI Data Analyst",
          "BI Data Analyst",
          "BI Data Analyst",
          "BI Data Analyst",
          "BI Data Engineer",
          "BI Developer",
          "Big Data Architect",
          "Big Data Architect",
          "Big Data Engineer",
          "Big Data Engineer",
          "Big Data Engineer",
          "Big Data Engineer",
          "Big Data Engineer",
          "Big Data Engineer",
          "Big Data Engineer",
          "Big Data Engineer",
          "Big Data Engineer",
          "Business Data Analyst",
          "Business Data Analyst",
          "Business Data Analyst",
          "Business Data Analyst",
          "Business Data Analyst",
          "Business Data Analyst",
          "Business Data Analyst",
          "Business Data Analyst",
          "Business Intelligence Engineer",
          "Cloud Data Architect",
          "Cloud Data Engineer",
          "Cloud Data Engineer",
          "Cloud Data Engineer",
          "Cloud Database Engineer",
          "Compliance Data Analyst",
          "Computer Vision Engineer",
          "Computer Vision Engineer",
          "Computer Vision Engineer",
          "Computer Vision Engineer",
          "Computer Vision Engineer",
          "Computer Vision Engineer",
          "Computer Vision Software Engineer",
          "Computer Vision Software Engineer",
          "Computer Vision Software Engineer",
          "Computer Vision Software Engineer",
          "Data Analyst",
          "Data Analyst",
          "Data Analyst",
          "Data Analyst",
          "Data Analyst",
          "Data Analyst",
          "Data Analyst",
          "Data Analyst",
          "Data Analyst",
          "Data Analyst",
          "Data Analyst",
          "Data Analyst",
          "Data Analyst",
          "Data Analyst",
          "Data Analyst",
          "Data Analyst",
          "Data Analyst",
          "Data Analyst",
          "Data Analyst",
          "Data Analytics Consultant",
          "Data Analytics Engineer",
          "Data Analytics Engineer",
          "Data Analytics Engineer",
          "Data Analytics Engineer",
          "Data Analytics Engineer",
          "Data Analytics Lead",
          "Data Analytics Lead",
          "Data Analytics Manager",
          "Data Analytics Manager",
          "Data Analytics Specialist",
          "Data Architect",
          "Data Architect",
          "Data Architect",
          "Data DevOps Engineer",
          "Data Engineer",
          "Data Engineer",
          "Data Engineer",
          "Data Engineer",
          "Data Engineer",
          "Data Engineer",
          "Data Engineer",
          "Data Engineer",
          "Data Engineer",
          "Data Engineer",
          "Data Engineer",
          "Data Engineer",
          "Data Engineer",
          "Data Engineer",
          "Data Engineer",
          "Data Engineer",
          "Data Engineer",
          "Data Engineer",
          "Data Engineer",
          "Data Engineer",
          "Data Engineer",
          "Data Engineer",
          "Data Engineer",
          "Data Infrastructure Engineer",
          "Data Lead",
          "Data Management Specialist",
          "Data Manager",
          "Data Manager",
          "Data Manager",
          "Data Manager",
          "Data Modeler",
          "Data Operations Analyst",
          "Data Operations Engineer",
          "Data Quality Analyst",
          "Data Quality Analyst",
          "Data Science Consultant",
          "Data Science Consultant",
          "Data Science Consultant",
          "Data Science Consultant",
          "Data Science Consultant",
          "Data Science Consultant",
          "Data Science Consultant",
          "Data Science Engineer",
          "Data Science Engineer",
          "Data Science Engineer",
          "Data Science Engineer",
          "Data Science Lead",
          "Data Science Lead",
          "Data Science Manager",
          "Data Science Manager",
          "Data Science Manager",
          "Data Science Manager",
          "Data Science Manager",
          "Data Science Manager",
          "Data Science Tech Lead",
          "Data Scientist",
          "Data Scientist",
          "Data Scientist",
          "Data Scientist",
          "Data Scientist",
          "Data Scientist",
          "Data Scientist",
          "Data Scientist",
          "Data Scientist",
          "Data Scientist",
          "Data Scientist",
          "Data Scientist",
          "Data Scientist",
          "Data Scientist",
          "Data Scientist",
          "Data Scientist",
          "Data Scientist",
          "Data Scientist",
          "Data Scientist",
          "Data Scientist",
          "Data Scientist",
          "Data Scientist",
          "Data Scientist",
          "Data Scientist",
          "Data Scientist",
          "Data Scientist",
          "Data Scientist",
          "Data Scientist",
          "Data Scientist",
          "Data Scientist",
          "Data Scientist",
          "Data Scientist",
          "Data Scientist Lead",
          "Data Scientist Lead",
          "Data Specialist",
          "Data Strategist",
          "Deep Learning Engineer",
          "Deep Learning Engineer",
          "Deep Learning Researcher",
          "Director of Data Science",
          "Director of Data Science",
          "Director of Data Science",
          "Director of Data Science",
          "Director of Data Science",
          "Director of Data Science",
          "ETL Developer",
          "ETL Developer",
          "ETL Engineer",
          "Finance Data Analyst",
          "Financial Data Analyst",
          "Head of Data",
          "Head of Data",
          "Head of Data",
          "Head of Data",
          "Head of Data",
          "Head of Data Science",
          "Head of Data Science",
          "Head of Data Science",
          "Head of Data Science",
          "Head of Machine Learning",
          "Insight Analyst",
          "Lead Data Analyst",
          "Lead Data Analyst",
          "Lead Data Engineer",
          "Lead Data Engineer",
          "Lead Data Engineer",
          "Lead Data Engineer",
          "Lead Data Scientist",
          "Lead Data Scientist",
          "Lead Data Scientist",
          "Lead Data Scientist",
          "Lead Data Scientist",
          "Lead Data Scientist",
          "Lead Machine Learning Engineer",
          "Lead Machine Learning Engineer",
          "Lead Machine Learning Engineer",
          "ML Engineer",
          "ML Engineer",
          "ML Engineer",
          "ML Engineer",
          "ML Engineer",
          "MLOps Engineer",
          "Machine Learning Developer",
          "Machine Learning Developer",
          "Machine Learning Developer",
          "Machine Learning Developer",
          "Machine Learning Developer",
          "Machine Learning Developer",
          "Machine Learning Engineer",
          "Machine Learning Engineer",
          "Machine Learning Engineer",
          "Machine Learning Engineer",
          "Machine Learning Engineer",
          "Machine Learning Engineer",
          "Machine Learning Engineer",
          "Machine Learning Engineer",
          "Machine Learning Engineer",
          "Machine Learning Engineer",
          "Machine Learning Engineer",
          "Machine Learning Engineer",
          "Machine Learning Engineer",
          "Machine Learning Engineer",
          "Machine Learning Engineer",
          "Machine Learning Engineer",
          "Machine Learning Engineer",
          "Machine Learning Engineer",
          "Machine Learning Engineer",
          "Machine Learning Engineer",
          "Machine Learning Engineer",
          "Machine Learning Engineer",
          "Machine Learning Engineer",
          "Machine Learning Engineer",
          "Machine Learning Engineer",
          "Machine Learning Engineer",
          "Machine Learning Infrastructure Engineer",
          "Machine Learning Infrastructure Engineer",
          "Machine Learning Infrastructure Engineer",
          "Machine Learning Manager",
          "Machine Learning Manager",
          "Machine Learning Research Engineer",
          "Machine Learning Research Engineer",
          "Machine Learning Research Engineer",
          "Machine Learning Research Engineer",
          "Machine Learning Researcher",
          "Machine Learning Researcher",
          "Machine Learning Researcher",
          "Machine Learning Scientist",
          "Machine Learning Scientist",
          "Machine Learning Scientist",
          "Machine Learning Scientist",
          "Machine Learning Scientist",
          "Machine Learning Scientist",
          "Machine Learning Software Engineer",
          "Machine Learning Software Engineer",
          "Machine Learning Software Engineer",
          "Manager Data Management",
          "Marketing Data Analyst",
          "Marketing Data Analyst",
          "Marketing Data Engineer",
          "NLP Engineer",
          "NLP Engineer",
          "NLP Engineer",
          "Power BI Developer",
          "Principal Data Analyst",
          "Principal Data Analyst",
          "Principal Data Architect",
          "Principal Data Engineer",
          "Principal Data Scientist",
          "Principal Data Scientist",
          "Principal Data Scientist",
          "Principal Machine Learning Engineer",
          "Product Data Analyst",
          "Product Data Analyst",
          "Product Data Analyst",
          "Product Data Scientist",
          "Research Engineer",
          "Research Engineer",
          "Research Engineer",
          "Research Scientist",
          "Research Scientist",
          "Research Scientist",
          "Research Scientist",
          "Research Scientist",
          "Research Scientist",
          "Research Scientist",
          "Research Scientist",
          "Research Scientist",
          "Research Scientist",
          "Research Scientist",
          "Research Scientist",
          "Software Data Engineer",
          "Software Data Engineer",
          "Staff Data Analyst",
          "Staff Data Scientist",
          "AE",
          "AL",
          "AM",
          "AR",
          "AS",
          "AT",
          "AU",
          "BA",
          "BE",
          "BO",
          "BR",
          "BS",
          "CA",
          "CF",
          "CH",
          "CL",
          "CN",
          "CO",
          "CR",
          "CZ",
          "DE",
          "DK",
          "DZ",
          "EE",
          "EG",
          "ES",
          "FI",
          "FR",
          "GB",
          "GH",
          "GR",
          "HK",
          "HN",
          "HR",
          "HU",
          "ID",
          "IE",
          "IL",
          "IN",
          "IQ",
          "IR",
          "IT",
          "JP",
          "KE",
          "LT",
          "LU",
          "LV",
          "MA",
          "MD",
          "MK",
          "MT",
          "MX",
          "MY",
          "NG",
          "NL",
          "NZ",
          "PH",
          "PK",
          "PL",
          "PR",
          "PT",
          "RO",
          "RU",
          "SE",
          "SG",
          "SI",
          "SK",
          "TH",
          "TR",
          "UA",
          "US",
          "VN"
         ],
         "name": "",
         "parents": [
          "AL",
          "AS",
          "CR",
          "IN",
          "BA",
          "CA",
          "DE",
          "FI",
          "IN",
          "MK",
          "SE",
          "UA",
          "US",
          "AU",
          "AS",
          "CA",
          "CO",
          "DK",
          "ES",
          "GH",
          "IL",
          "US",
          "BO",
          "BR",
          "GB",
          "US",
          "AT",
          "CA",
          "FI",
          "GB",
          "IN",
          "KE",
          "PK",
          "US",
          "DE",
          "US",
          "CZ",
          "DE",
          "GB",
          "IN",
          "US",
          "US",
          "BS",
          "GH",
          "NL",
          "BR",
          "NG",
          "US",
          "AU",
          "BR",
          "DE",
          "FR",
          "IN",
          "KE",
          "US",
          "US",
          "US",
          "CA",
          "GB",
          "CA",
          "CH",
          "ES",
          "GB",
          "IN",
          "MD",
          "RO",
          "SE",
          "US",
          "AS",
          "BR",
          "CA",
          "ES",
          "GR",
          "IN",
          "LU",
          "US",
          "US",
          "US",
          "SG",
          "SK",
          "US",
          "US",
          "NG",
          "BR",
          "DK",
          "FR",
          "IN",
          "LU",
          "US",
          "AU",
          "CA",
          "DK",
          "US",
          "AR",
          "AU",
          "BR",
          "CA",
          "CF",
          "DE",
          "ES",
          "FR",
          "GB",
          "GR",
          "HR",
          "ID",
          "IN",
          "NG",
          "PH",
          "PK",
          "PT",
          "SG",
          "US",
          "US",
          "AR",
          "DE",
          "GB",
          "PK",
          "US",
          "SG",
          "US",
          "NL",
          "US",
          "US",
          "CA",
          "GB",
          "US",
          "FR",
          "AT",
          "AU",
          "BR",
          "CA",
          "DE",
          "ES",
          "FR",
          "GB",
          "GR",
          "IE",
          "IN",
          "JP",
          "LT",
          "MT",
          "MX",
          "NL",
          "PL",
          "PR",
          "PT",
          "SI",
          "TR",
          "US",
          "VN",
          "US",
          "US",
          "IT",
          "CA",
          "CO",
          "GB",
          "US",
          "US",
          "US",
          "US",
          "NG",
          "US",
          "DE",
          "ES",
          "GB",
          "IN",
          "IT",
          "TH",
          "US",
          "CA",
          "GR",
          "MX",
          "US",
          "GB",
          "US",
          "AU",
          "FR",
          "IN",
          "MX",
          "RU",
          "US",
          "US",
          "AT",
          "AU",
          "BE",
          "BR",
          "CA",
          "CH",
          "CL",
          "DE",
          "DZ",
          "EE",
          "ES",
          "FR",
          "GB",
          "HK",
          "HU",
          "ID",
          "IE",
          "IL",
          "IN",
          "IT",
          "LU",
          "LV",
          "MX",
          "MY",
          "NG",
          "NL",
          "PL",
          "RO",
          "TH",
          "TR",
          "UA",
          "US",
          "AT",
          "US",
          "US",
          "CA",
          "GB",
          "US",
          "DE",
          "CA",
          "DE",
          "FR",
          "JP",
          "PL",
          "US",
          "GR",
          "US",
          "GB",
          "GB",
          "US",
          "EE",
          "PT",
          "RU",
          "SI",
          "US",
          "GB",
          "IN",
          "RU",
          "US",
          "IN",
          "GB",
          "IN",
          "US",
          "CA",
          "GB",
          "NZ",
          "US",
          "AE",
          "GB",
          "IE",
          "IN",
          "PT",
          "US",
          "DE",
          "IN",
          "PT",
          "CA",
          "DE",
          "JP",
          "PT",
          "US",
          "US",
          "AU",
          "CA",
          "DE",
          "IQ",
          "TH",
          "US",
          "AE",
          "AM",
          "AR",
          "AU",
          "BE",
          "CA",
          "CH",
          "CO",
          "DE",
          "ES",
          "FI",
          "FR",
          "GB",
          "HR",
          "IE",
          "IN",
          "IR",
          "IT",
          "JP",
          "LV",
          "MX",
          "NL",
          "PL",
          "PR",
          "SI",
          "US",
          "FR",
          "PT",
          "US",
          "CA",
          "US",
          "DE",
          "FR",
          "GB",
          "IN",
          "CA",
          "UA",
          "US",
          "CA",
          "DE",
          "EG",
          "JP",
          "PK",
          "US",
          "CA",
          "MA",
          "US",
          "US",
          "DK",
          "GB",
          "SG",
          "CZ",
          "PL",
          "US",
          "IN",
          "CA",
          "US",
          "IN",
          "US",
          "DE",
          "ES",
          "US",
          "US",
          "HN",
          "IN",
          "US",
          "SG",
          "DE",
          "GB",
          "US",
          "AT",
          "CA",
          "CN",
          "CZ",
          "DE",
          "ES",
          "FR",
          "GB",
          "IN",
          "NL",
          "PT",
          "US",
          "AU",
          "SG",
          "CA",
          "US",
          "",
          "",
          "",
          "",
          "",
          "",
          "",
          "",
          "",
          "",
          "",
          "",
          "",
          "",
          "",
          "",
          "",
          "",
          "",
          "",
          "",
          "",
          "",
          "",
          "",
          "",
          "",
          "",
          "",
          "",
          "",
          "",
          "",
          "",
          "",
          "",
          "",
          "",
          "",
          "",
          "",
          "",
          "",
          "",
          "",
          "",
          "",
          "",
          "",
          "",
          "",
          "",
          "",
          "",
          "",
          "",
          "",
          "",
          "",
          "",
          "",
          "",
          "",
          "",
          "",
          "",
          "",
          "",
          "",
          "",
          "",
          ""
         ],
         "type": "sunburst",
         "values": [
          10000,
          20000,
          50000,
          5409,
          120000,
          275000,
          279003,
          75020,
          300000,
          6304,
          80000,
          168000,
          200000,
          110000,
          18053,
          200000,
          125000,
          45896,
          125151,
          30000,
          423834,
          794000,
          7500,
          126000,
          930229,
          14630240,
          50000,
          54238,
          68318,
          110037,
          20670,
          80000,
          40000,
          714000,
          69751,
          130000,
          30469,
          42923,
          77119,
          30523,
          1132400,
          11035340,
          45555,
          7000,
          100000,
          126000,
          200000,
          618000,
          98418,
          6270,
          183267,
          105066,
          8050,
          9272,
          496259,
          60000,
          1688000,
          99703,
          151902,
          161311,
          5882,
          48289,
          223071,
          38839,
          18000,
          60000,
          130000,
          70000,
          50000,
          9289,
          69133,
          21461,
          12877,
          36119,
          59102,
          733000,
          696600,
          250000,
          89294,
          12608,
          160000,
          775000,
          30000,
          42907,
          28609,
          58837,
          15897,
          10000,
          2427400,
          150000,
          53654,
          19073,
          165746,
          50000,
          213028,
          7799,
          1479049,
          97218,
          63831,
          727750,
          134229,
          1956664,
          93546,
          182285,
          15000,
          112950,
          10000,
          50000,
          8000,
          22809,
          65257,
          61244916,
          163000,
          13000,
          79197,
          50000,
          20000,
          245000,
          17509,
          405000,
          133000,
          2988340,
          190000,
          283100,
          230000,
          15819991,
          53654,
          74130,
          75050,
          120000,
          1185200,
          379559,
          1236672,
          135280,
          4534515,
          473417,
          101943,
          131683,
          41689,
          189624,
          28369,
          165511,
          175020,
          28476,
          335000,
          322694,
          123405,
          40119,
          138587808,
          12000,
          1050310,
          425000,
          68293,
          125976,
          113000,
          127311,
          3015500,
          237800,
          362250,
          984850,
          100000,
          497180,
          217497,
          97058,
          121902,
          5707,
          24165,
          29453,
          1592500,
          127221,
          40189,
          60000,
          240000,
          133675,
          1117000,
          133766,
          152000,
          94665,
          240000,
          106000,
          10367738,
          375000,
          152704,
          166342,
          136061,
          170423,
          2948476,
          241495,
          40038,
          932734,
          100000,
          63312,
          1205647,
          867575,
          2685012,
          65062,
          53419,
          53416,
          462059,
          119059,
          350516,
          21669,
          62726,
          115893,
          30000,
          40000,
          50000,
          333059,
          33609,
          53654,
          24740,
          55171,
          13400,
          106683332,
          89306,
          183000,
          1675000,
          162000,
          135446,
          520000,
          123405,
          317723,
          271872,
          57786,
          168000,
          153667,
          1177500,
          105066,
          1209470,
          142789,
          61896,
          305000,
          31520,
          75116,
          230000,
          102839,
          1399100,
          287755,
          60795,
          85000,
          1011775,
          76309,
          93572,
          37847,
          325000,
          115222,
          103160,
          125000,
          492000,
          115000,
          61566,
          172309,
          97293,
          29944,
          538868,
          84053,
          95386,
          69344,
          370000,
          15966,
          141075,
          21013,
          4835929,
          516000,
          40000,
          153628,
          33000,
          100000,
          15000,
          180000,
          185000,
          50000,
          12000,
          83864,
          171398,
          1190300,
          161233,
          21844,
          737440,
          47282,
          63040,
          273172,
          1893359,
          45618,
          68293,
          131591,
          100000,
          51064,
          74000,
          115893,
          476000,
          156466,
          46597,
          335000,
          24823,
          38190343,
          182425,
          105865,
          1284840,
          117104,
          350000,
          66192,
          20000,
          72914,
          12171,
          105236,
          50000,
          480000,
          225000,
          34672,
          22800,
          260000,
          12000,
          3689250,
          827200,
          10000,
          1087000,
          125000,
          88654,
          200000,
          66970,
          5132,
          44365,
          880000,
          5409,
          75000,
          170000,
          38154,
          385000,
          477522,
          85847,
          1022000,
          190000,
          20000,
          22486,
          240000,
          8000,
          642156,
          180000,
          5212854,
          61989,
          741365,
          100000,
          69999,
          210133,
          845900,
          208693,
          381195,
          23000,
          126053,
          60757,
          10390480,
          50000,
          75020,
          15000,
          105000,
          300000,
          10000,
          50000,
          75000,
          88053,
          428129,
          1120468,
          120000,
          307459,
          7500,
          608688,
          45555,
          11476839,
          97218,
          408610,
          40038,
          100000,
          259844,
          50000,
          105600,
          4944173,
          182232,
          100000,
          94832,
          22800,
          4441057,
          206378,
          2248717,
          14945089,
          37000,
          725095,
          65062,
          20000,
          227903,
          53419,
          68416,
          804604,
          542893,
          1751469,
          100000,
          100000,
          165191,
          684764,
          89272,
          189624,
          131828,
          231786,
          10000,
          18000,
          6304,
          28369,
          971511,
          40000,
          390000,
          1023598,
          125000,
          50000,
          80000,
          306714,
          670000,
          707542,
          113654,
          421000,
          210000,
          322050,
          251067,
          12608,
          69193,
          95290,
          231400,
          461538909,
          12000
         ]
        }
       ],
       "layout": {
        "autosize": true,
        "legend": {
         "tracegroupgap": 0
        },
        "template": {
         "data": {
          "bar": [
           {
            "error_x": {
             "color": "#2a3f5f"
            },
            "error_y": {
             "color": "#2a3f5f"
            },
            "marker": {
             "line": {
              "color": "#E5ECF6",
              "width": 0.5
             },
             "pattern": {
              "fillmode": "overlay",
              "size": 10,
              "solidity": 0.2
             }
            },
            "type": "bar"
           }
          ],
          "barpolar": [
           {
            "marker": {
             "line": {
              "color": "#E5ECF6",
              "width": 0.5
             },
             "pattern": {
              "fillmode": "overlay",
              "size": 10,
              "solidity": 0.2
             }
            },
            "type": "barpolar"
           }
          ],
          "carpet": [
           {
            "aaxis": {
             "endlinecolor": "#2a3f5f",
             "gridcolor": "white",
             "linecolor": "white",
             "minorgridcolor": "white",
             "startlinecolor": "#2a3f5f"
            },
            "baxis": {
             "endlinecolor": "#2a3f5f",
             "gridcolor": "white",
             "linecolor": "white",
             "minorgridcolor": "white",
             "startlinecolor": "#2a3f5f"
            },
            "type": "carpet"
           }
          ],
          "choropleth": [
           {
            "colorbar": {
             "outlinewidth": 0,
             "ticks": ""
            },
            "type": "choropleth"
           }
          ],
          "contour": [
           {
            "colorbar": {
             "outlinewidth": 0,
             "ticks": ""
            },
            "colorscale": [
             [
              0,
              "#0d0887"
             ],
             [
              0.1111111111111111,
              "#46039f"
             ],
             [
              0.2222222222222222,
              "#7201a8"
             ],
             [
              0.3333333333333333,
              "#9c179e"
             ],
             [
              0.4444444444444444,
              "#bd3786"
             ],
             [
              0.5555555555555556,
              "#d8576b"
             ],
             [
              0.6666666666666666,
              "#ed7953"
             ],
             [
              0.7777777777777778,
              "#fb9f3a"
             ],
             [
              0.8888888888888888,
              "#fdca26"
             ],
             [
              1,
              "#f0f921"
             ]
            ],
            "type": "contour"
           }
          ],
          "contourcarpet": [
           {
            "colorbar": {
             "outlinewidth": 0,
             "ticks": ""
            },
            "type": "contourcarpet"
           }
          ],
          "heatmap": [
           {
            "colorbar": {
             "outlinewidth": 0,
             "ticks": ""
            },
            "colorscale": [
             [
              0,
              "#0d0887"
             ],
             [
              0.1111111111111111,
              "#46039f"
             ],
             [
              0.2222222222222222,
              "#7201a8"
             ],
             [
              0.3333333333333333,
              "#9c179e"
             ],
             [
              0.4444444444444444,
              "#bd3786"
             ],
             [
              0.5555555555555556,
              "#d8576b"
             ],
             [
              0.6666666666666666,
              "#ed7953"
             ],
             [
              0.7777777777777778,
              "#fb9f3a"
             ],
             [
              0.8888888888888888,
              "#fdca26"
             ],
             [
              1,
              "#f0f921"
             ]
            ],
            "type": "heatmap"
           }
          ],
          "heatmapgl": [
           {
            "colorbar": {
             "outlinewidth": 0,
             "ticks": ""
            },
            "colorscale": [
             [
              0,
              "#0d0887"
             ],
             [
              0.1111111111111111,
              "#46039f"
             ],
             [
              0.2222222222222222,
              "#7201a8"
             ],
             [
              0.3333333333333333,
              "#9c179e"
             ],
             [
              0.4444444444444444,
              "#bd3786"
             ],
             [
              0.5555555555555556,
              "#d8576b"
             ],
             [
              0.6666666666666666,
              "#ed7953"
             ],
             [
              0.7777777777777778,
              "#fb9f3a"
             ],
             [
              0.8888888888888888,
              "#fdca26"
             ],
             [
              1,
              "#f0f921"
             ]
            ],
            "type": "heatmapgl"
           }
          ],
          "histogram": [
           {
            "marker": {
             "pattern": {
              "fillmode": "overlay",
              "size": 10,
              "solidity": 0.2
             }
            },
            "type": "histogram"
           }
          ],
          "histogram2d": [
           {
            "colorbar": {
             "outlinewidth": 0,
             "ticks": ""
            },
            "colorscale": [
             [
              0,
              "#0d0887"
             ],
             [
              0.1111111111111111,
              "#46039f"
             ],
             [
              0.2222222222222222,
              "#7201a8"
             ],
             [
              0.3333333333333333,
              "#9c179e"
             ],
             [
              0.4444444444444444,
              "#bd3786"
             ],
             [
              0.5555555555555556,
              "#d8576b"
             ],
             [
              0.6666666666666666,
              "#ed7953"
             ],
             [
              0.7777777777777778,
              "#fb9f3a"
             ],
             [
              0.8888888888888888,
              "#fdca26"
             ],
             [
              1,
              "#f0f921"
             ]
            ],
            "type": "histogram2d"
           }
          ],
          "histogram2dcontour": [
           {
            "colorbar": {
             "outlinewidth": 0,
             "ticks": ""
            },
            "colorscale": [
             [
              0,
              "#0d0887"
             ],
             [
              0.1111111111111111,
              "#46039f"
             ],
             [
              0.2222222222222222,
              "#7201a8"
             ],
             [
              0.3333333333333333,
              "#9c179e"
             ],
             [
              0.4444444444444444,
              "#bd3786"
             ],
             [
              0.5555555555555556,
              "#d8576b"
             ],
             [
              0.6666666666666666,
              "#ed7953"
             ],
             [
              0.7777777777777778,
              "#fb9f3a"
             ],
             [
              0.8888888888888888,
              "#fdca26"
             ],
             [
              1,
              "#f0f921"
             ]
            ],
            "type": "histogram2dcontour"
           }
          ],
          "mesh3d": [
           {
            "colorbar": {
             "outlinewidth": 0,
             "ticks": ""
            },
            "type": "mesh3d"
           }
          ],
          "parcoords": [
           {
            "line": {
             "colorbar": {
              "outlinewidth": 0,
              "ticks": ""
             }
            },
            "type": "parcoords"
           }
          ],
          "pie": [
           {
            "automargin": true,
            "type": "pie"
           }
          ],
          "scatter": [
           {
            "fillpattern": {
             "fillmode": "overlay",
             "size": 10,
             "solidity": 0.2
            },
            "type": "scatter"
           }
          ],
          "scatter3d": [
           {
            "line": {
             "colorbar": {
              "outlinewidth": 0,
              "ticks": ""
             }
            },
            "marker": {
             "colorbar": {
              "outlinewidth": 0,
              "ticks": ""
             }
            },
            "type": "scatter3d"
           }
          ],
          "scattercarpet": [
           {
            "marker": {
             "colorbar": {
              "outlinewidth": 0,
              "ticks": ""
             }
            },
            "type": "scattercarpet"
           }
          ],
          "scattergeo": [
           {
            "marker": {
             "colorbar": {
              "outlinewidth": 0,
              "ticks": ""
             }
            },
            "type": "scattergeo"
           }
          ],
          "scattergl": [
           {
            "marker": {
             "colorbar": {
              "outlinewidth": 0,
              "ticks": ""
             }
            },
            "type": "scattergl"
           }
          ],
          "scattermapbox": [
           {
            "marker": {
             "colorbar": {
              "outlinewidth": 0,
              "ticks": ""
             }
            },
            "type": "scattermapbox"
           }
          ],
          "scatterpolar": [
           {
            "marker": {
             "colorbar": {
              "outlinewidth": 0,
              "ticks": ""
             }
            },
            "type": "scatterpolar"
           }
          ],
          "scatterpolargl": [
           {
            "marker": {
             "colorbar": {
              "outlinewidth": 0,
              "ticks": ""
             }
            },
            "type": "scatterpolargl"
           }
          ],
          "scatterternary": [
           {
            "marker": {
             "colorbar": {
              "outlinewidth": 0,
              "ticks": ""
             }
            },
            "type": "scatterternary"
           }
          ],
          "surface": [
           {
            "colorbar": {
             "outlinewidth": 0,
             "ticks": ""
            },
            "colorscale": [
             [
              0,
              "#0d0887"
             ],
             [
              0.1111111111111111,
              "#46039f"
             ],
             [
              0.2222222222222222,
              "#7201a8"
             ],
             [
              0.3333333333333333,
              "#9c179e"
             ],
             [
              0.4444444444444444,
              "#bd3786"
             ],
             [
              0.5555555555555556,
              "#d8576b"
             ],
             [
              0.6666666666666666,
              "#ed7953"
             ],
             [
              0.7777777777777778,
              "#fb9f3a"
             ],
             [
              0.8888888888888888,
              "#fdca26"
             ],
             [
              1,
              "#f0f921"
             ]
            ],
            "type": "surface"
           }
          ],
          "table": [
           {
            "cells": {
             "fill": {
              "color": "#EBF0F8"
             },
             "line": {
              "color": "white"
             }
            },
            "header": {
             "fill": {
              "color": "#C8D4E3"
             },
             "line": {
              "color": "white"
             }
            },
            "type": "table"
           }
          ]
         },
         "layout": {
          "annotationdefaults": {
           "arrowcolor": "#2a3f5f",
           "arrowhead": 0,
           "arrowwidth": 1
          },
          "autotypenumbers": "strict",
          "coloraxis": {
           "colorbar": {
            "outlinewidth": 0,
            "ticks": ""
           }
          },
          "colorscale": {
           "diverging": [
            [
             0,
             "#8e0152"
            ],
            [
             0.1,
             "#c51b7d"
            ],
            [
             0.2,
             "#de77ae"
            ],
            [
             0.3,
             "#f1b6da"
            ],
            [
             0.4,
             "#fde0ef"
            ],
            [
             0.5,
             "#f7f7f7"
            ],
            [
             0.6,
             "#e6f5d0"
            ],
            [
             0.7,
             "#b8e186"
            ],
            [
             0.8,
             "#7fbc41"
            ],
            [
             0.9,
             "#4d9221"
            ],
            [
             1,
             "#276419"
            ]
           ],
           "sequential": [
            [
             0,
             "#0d0887"
            ],
            [
             0.1111111111111111,
             "#46039f"
            ],
            [
             0.2222222222222222,
             "#7201a8"
            ],
            [
             0.3333333333333333,
             "#9c179e"
            ],
            [
             0.4444444444444444,
             "#bd3786"
            ],
            [
             0.5555555555555556,
             "#d8576b"
            ],
            [
             0.6666666666666666,
             "#ed7953"
            ],
            [
             0.7777777777777778,
             "#fb9f3a"
            ],
            [
             0.8888888888888888,
             "#fdca26"
            ],
            [
             1,
             "#f0f921"
            ]
           ],
           "sequentialminus": [
            [
             0,
             "#0d0887"
            ],
            [
             0.1111111111111111,
             "#46039f"
            ],
            [
             0.2222222222222222,
             "#7201a8"
            ],
            [
             0.3333333333333333,
             "#9c179e"
            ],
            [
             0.4444444444444444,
             "#bd3786"
            ],
            [
             0.5555555555555556,
             "#d8576b"
            ],
            [
             0.6666666666666666,
             "#ed7953"
            ],
            [
             0.7777777777777778,
             "#fb9f3a"
            ],
            [
             0.8888888888888888,
             "#fdca26"
            ],
            [
             1,
             "#f0f921"
            ]
           ]
          },
          "colorway": [
           "#636efa",
           "#EF553B",
           "#00cc96",
           "#ab63fa",
           "#FFA15A",
           "#19d3f3",
           "#FF6692",
           "#B6E880",
           "#FF97FF",
           "#FECB52"
          ],
          "font": {
           "color": "#2a3f5f"
          },
          "geo": {
           "bgcolor": "white",
           "lakecolor": "white",
           "landcolor": "#E5ECF6",
           "showlakes": true,
           "showland": true,
           "subunitcolor": "white"
          },
          "hoverlabel": {
           "align": "left"
          },
          "hovermode": "closest",
          "mapbox": {
           "style": "light"
          },
          "paper_bgcolor": "white",
          "plot_bgcolor": "#E5ECF6",
          "polar": {
           "angularaxis": {
            "gridcolor": "white",
            "linecolor": "white",
            "ticks": ""
           },
           "bgcolor": "#E5ECF6",
           "radialaxis": {
            "gridcolor": "white",
            "linecolor": "white",
            "ticks": ""
           }
          },
          "scene": {
           "xaxis": {
            "backgroundcolor": "#E5ECF6",
            "gridcolor": "white",
            "gridwidth": 2,
            "linecolor": "white",
            "showbackground": true,
            "ticks": "",
            "zerolinecolor": "white"
           },
           "yaxis": {
            "backgroundcolor": "#E5ECF6",
            "gridcolor": "white",
            "gridwidth": 2,
            "linecolor": "white",
            "showbackground": true,
            "ticks": "",
            "zerolinecolor": "white"
           },
           "zaxis": {
            "backgroundcolor": "#E5ECF6",
            "gridcolor": "white",
            "gridwidth": 2,
            "linecolor": "white",
            "showbackground": true,
            "ticks": "",
            "zerolinecolor": "white"
           }
          },
          "shapedefaults": {
           "line": {
            "color": "#2a3f5f"
           }
          },
          "ternary": {
           "aaxis": {
            "gridcolor": "white",
            "linecolor": "white",
            "ticks": ""
           },
           "baxis": {
            "gridcolor": "white",
            "linecolor": "white",
            "ticks": ""
           },
           "bgcolor": "#E5ECF6",
           "caxis": {
            "gridcolor": "white",
            "linecolor": "white",
            "ticks": ""
           }
          },
          "title": {
           "x": 0.05
          },
          "xaxis": {
           "automargin": true,
           "gridcolor": "white",
           "linecolor": "white",
           "ticks": "",
           "title": {
            "standoff": 15
           },
           "zerolinecolor": "white",
           "zerolinewidth": 2
          },
          "yaxis": {
           "automargin": true,
           "gridcolor": "white",
           "linecolor": "white",
           "ticks": "",
           "title": {
            "standoff": 15
           },
           "zerolinecolor": "white",
           "zerolinewidth": 2
          }
         }
        },
        "title": {
         "text": "Hierarchical Pie Chart of Data Science Jobs"
        }
       }
      },
      "image/png": "[encoded data removed]",
      "text/html": [
       "<div>                            <div id=\"9a589498-5d12-4969-9727-7be3f8be637f\" class=\"plotly-graph-div\" style=\"height:525px; width:100%;\"></div>            <script type=\"text/javascript\">                require([\"plotly\"], function(Plotly) {                    window.PLOTLYENV=window.PLOTLYENV || {};                                    if (document.getElementById(\"9a589498-5d12-4969-9727-7be3f8be637f\")) {                    Plotly.newPlot(                        \"9a589498-5d12-4969-9727-7be3f8be637f\",                        [{\"branchvalues\":\"total\",\"domain\":{\"x\":[0.0,1.0],\"y\":[0.0,1.0]},\"hovertemplate\":\"labels=%{label}\\u003cbr\\u003esalary_in_usd=%{value}\\u003cbr\\u003eparent=%{parent}\\u003cbr\\u003eid=%{id}\\u003cextra\\u003e\\u003c\\u002fextra\\u003e\",\"ids\":[\"AL\\u002f3D Computer Vision Researcher\",\"AS\\u002f3D Computer Vision Researcher\",\"CR\\u002f3D Computer Vision Researcher\",\"IN\\u002f3D Computer Vision Researcher\",\"BA\\u002fAI Developer\",\"CA\\u002fAI Developer\",\"DE\\u002fAI Developer\",\"FI\\u002fAI Developer\",\"IN\\u002fAI Developer\",\"MK\\u002fAI Developer\",\"SE\\u002fAI Developer\",\"UA\\u002fAI Developer\",\"US\\u002fAI Developer\",\"AU\\u002fAI Programmer\",\"AS\\u002fAI Scientist\",\"CA\\u002fAI Scientist\",\"CO\\u002fAI Scientist\",\"DK\\u002fAI Scientist\",\"ES\\u002fAI Scientist\",\"GH\\u002fAI Scientist\",\"IL\\u002fAI Scientist\",\"US\\u002fAI Scientist\",\"BO\\u002fAnalytics Engineer\",\"BR\\u002fAnalytics Engineer\",\"GB\\u002fAnalytics Engineer\",\"US\\u002fAnalytics Engineer\",\"AT\\u002fApplied Data Scientist\",\"CA\\u002fApplied Data Scientist\",\"FI\\u002fApplied Data Scientist\",\"GB\\u002fApplied Data Scientist\",\"IN\\u002fApplied Data Scientist\",\"KE\\u002fApplied Data Scientist\",\"PK\\u002fApplied Data Scientist\",\"US\\u002fApplied Data Scientist\",\"DE\\u002fApplied Machine Learning Engineer\",\"US\\u002fApplied Machine Learning Engineer\",\"CZ\\u002fApplied Machine Learning Scientist\",\"DE\\u002fApplied Machine Learning Scientist\",\"GB\\u002fApplied Machine Learning Scientist\",\"IN\\u002fApplied Machine Learning Scientist\",\"US\\u002fApplied Machine Learning Scientist\",\"US\\u002fApplied Scientist\",\"BS\\u002fAutonomous Vehicle Technician\",\"GH\\u002fAutonomous Vehicle Technician\",\"NL\\u002fAzure Data Engineer\",\"BR\\u002fBI Analyst\",\"NG\\u002fBI Analyst\",\"US\\u002fBI Analyst\",\"AU\\u002fBI Data Analyst\",\"BR\\u002fBI Data Analyst\",\"DE\\u002fBI Data Analyst\",\"FR\\u002fBI Data Analyst\",\"IN\\u002fBI Data Analyst\",\"KE\\u002fBI Data Analyst\",\"US\\u002fBI Data Analyst\",\"US\\u002fBI Data Engineer\",\"US\\u002fBI Developer\",\"CA\\u002fBig Data Architect\",\"GB\\u002fBig Data Architect\",\"CA\\u002fBig Data Engineer\",\"CH\\u002fBig Data Engineer\",\"ES\\u002fBig Data Engineer\",\"GB\\u002fBig Data Engineer\",\"IN\\u002fBig Data Engineer\",\"MD\\u002fBig Data Engineer\",\"RO\\u002fBig Data Engineer\",\"SE\\u002fBig Data Engineer\",\"US\\u002fBig Data Engineer\",\"AS\\u002fBusiness Data Analyst\",\"BR\\u002fBusiness Data Analyst\",\"CA\\u002fBusiness Data Analyst\",\"ES\\u002fBusiness Data Analyst\",\"GR\\u002fBusiness Data Analyst\",\"IN\\u002fBusiness Data Analyst\",\"LU\\u002fBusiness Data Analyst\",\"US\\u002fBusiness Data Analyst\",\"US\\u002fBusiness Intelligence Engineer\",\"US\\u002fCloud Data Architect\",\"SG\\u002fCloud Data Engineer\",\"SK\\u002fCloud Data Engineer\",\"US\\u002fCloud Data Engineer\",\"US\\u002fCloud Database Engineer\",\"NG\\u002fCompliance Data Analyst\",\"BR\\u002fComputer Vision Engineer\",\"DK\\u002fComputer Vision Engineer\",\"FR\\u002fComputer Vision Engineer\",\"IN\\u002fComputer Vision Engineer\",\"LU\\u002fComputer Vision Engineer\",\"US\\u002fComputer Vision Engineer\",\"AU\\u002fComputer Vision Software Engineer\",\"CA\\u002fComputer Vision Software Engineer\",\"DK\\u002fComputer Vision Software Engineer\",\"US\\u002fComputer Vision Software Engineer\",\"AR\\u002fData Analyst\",\"AU\\u002fData Analyst\",\"BR\\u002fData Analyst\",\"CA\\u002fData Analyst\",\"CF\\u002fData Analyst\",\"DE\\u002fData Analyst\",\"ES\\u002fData Analyst\",\"FR\\u002fData Analyst\",\"GB\\u002fData Analyst\",\"GR\\u002fData Analyst\",\"HR\\u002fData Analyst\",\"ID\\u002fData Analyst\",\"IN\\u002fData Analyst\",\"NG\\u002fData Analyst\",\"PH\\u002fData Analyst\",\"PK\\u002fData Analyst\",\"PT\\u002fData Analyst\",\"SG\\u002fData Analyst\",\"US\\u002fData Analyst\",\"US\\u002fData Analytics Consultant\",\"AR\\u002fData Analytics Engineer\",\"DE\\u002fData Analytics Engineer\",\"GB\\u002fData Analytics Engineer\",\"PK\\u002fData Analytics Engineer\",\"US\\u002fData Analytics Engineer\",\"SG\\u002fData Analytics Lead\",\"US\\u002fData Analytics Lead\",\"NL\\u002fData Analytics Manager\",\"US\\u002fData Analytics Manager\",\"US\\u002fData Analytics Specialist\",\"CA\\u002fData Architect\",\"GB\\u002fData Architect\",\"US\\u002fData Architect\",\"FR\\u002fData DevOps Engineer\",\"AT\\u002fData Engineer\",\"AU\\u002fData Engineer\",\"BR\\u002fData Engineer\",\"CA\\u002fData Engineer\",\"DE\\u002fData Engineer\",\"ES\\u002fData Engineer\",\"FR\\u002fData Engineer\",\"GB\\u002fData Engineer\",\"GR\\u002fData Engineer\",\"IE\\u002fData Engineer\",\"IN\\u002fData Engineer\",\"JP\\u002fData Engineer\",\"LT\\u002fData Engineer\",\"MT\\u002fData Engineer\",\"MX\\u002fData Engineer\",\"NL\\u002fData Engineer\",\"PL\\u002fData Engineer\",\"PR\\u002fData Engineer\",\"PT\\u002fData Engineer\",\"SI\\u002fData Engineer\",\"TR\\u002fData Engineer\",\"US\\u002fData Engineer\",\"VN\\u002fData Engineer\",\"US\\u002fData Infrastructure Engineer\",\"US\\u002fData Lead\",\"IT\\u002fData Management Specialist\",\"CA\\u002fData Manager\",\"CO\\u002fData Manager\",\"GB\\u002fData Manager\",\"US\\u002fData Manager\",\"US\\u002fData Modeler\",\"US\\u002fData Operations Analyst\",\"US\\u002fData Operations Engineer\",\"NG\\u002fData Quality Analyst\",\"US\\u002fData Quality Analyst\",\"DE\\u002fData Science Consultant\",\"ES\\u002fData Science Consultant\",\"GB\\u002fData Science Consultant\",\"IN\\u002fData Science Consultant\",\"IT\\u002fData Science Consultant\",\"TH\\u002fData Science Consultant\",\"US\\u002fData Science Consultant\",\"CA\\u002fData Science Engineer\",\"GR\\u002fData Science Engineer\",\"MX\\u002fData Science Engineer\",\"US\\u002fData Science Engineer\",\"GB\\u002fData Science Lead\",\"US\\u002fData Science Lead\",\"AU\\u002fData Science Manager\",\"FR\\u002fData Science Manager\",\"IN\\u002fData Science Manager\",\"MX\\u002fData Science Manager\",\"RU\\u002fData Science Manager\",\"US\\u002fData Science Manager\",\"US\\u002fData Science Tech Lead\",\"AT\\u002fData Scientist\",\"AU\\u002fData Scientist\",\"BE\\u002fData Scientist\",\"BR\\u002fData Scientist\",\"CA\\u002fData Scientist\",\"CH\\u002fData Scientist\",\"CL\\u002fData Scientist\",\"DE\\u002fData Scientist\",\"DZ\\u002fData Scientist\",\"EE\\u002fData Scientist\",\"ES\\u002fData Scientist\",\"FR\\u002fData Scientist\",\"GB\\u002fData Scientist\",\"HK\\u002fData Scientist\",\"HU\\u002fData Scientist\",\"ID\\u002fData Scientist\",\"IE\\u002fData Scientist\",\"IL\\u002fData Scientist\",\"IN\\u002fData Scientist\",\"IT\\u002fData Scientist\",\"LU\\u002fData Scientist\",\"LV\\u002fData Scientist\",\"MX\\u002fData Scientist\",\"MY\\u002fData Scientist\",\"NG\\u002fData Scientist\",\"NL\\u002fData Scientist\",\"PL\\u002fData Scientist\",\"RO\\u002fData Scientist\",\"TH\\u002fData Scientist\",\"TR\\u002fData Scientist\",\"UA\\u002fData Scientist\",\"US\\u002fData Scientist\",\"AT\\u002fData Scientist Lead\",\"US\\u002fData Scientist Lead\",\"US\\u002fData Specialist\",\"CA\\u002fData Strategist\",\"GB\\u002fDeep Learning Engineer\",\"US\\u002fDeep Learning Engineer\",\"DE\\u002fDeep Learning Researcher\",\"CA\\u002fDirector of Data Science\",\"DE\\u002fDirector of Data Science\",\"FR\\u002fDirector of Data Science\",\"JP\\u002fDirector of Data Science\",\"PL\\u002fDirector of Data Science\",\"US\\u002fDirector of Data Science\",\"GR\\u002fETL Developer\",\"US\\u002fETL Developer\",\"GB\\u002fETL Engineer\",\"GB\\u002fFinance Data Analyst\",\"US\\u002fFinancial Data Analyst\",\"EE\\u002fHead of Data\",\"PT\\u002fHead of Data\",\"RU\\u002fHead of Data\",\"SI\\u002fHead of Data\",\"US\\u002fHead of Data\",\"GB\\u002fHead of Data Science\",\"IN\\u002fHead of Data Science\",\"RU\\u002fHead of Data Science\",\"US\\u002fHead of Data Science\",\"IN\\u002fHead of Machine Learning\",\"GB\\u002fInsight Analyst\",\"IN\\u002fLead Data Analyst\",\"US\\u002fLead Data Analyst\",\"CA\\u002fLead Data Engineer\",\"GB\\u002fLead Data Engineer\",\"NZ\\u002fLead Data Engineer\",\"US\\u002fLead Data Engineer\",\"AE\\u002fLead Data Scientist\",\"GB\\u002fLead Data Scientist\",\"IE\\u002fLead Data Scientist\",\"IN\\u002fLead Data Scientist\",\"PT\\u002fLead Data Scientist\",\"US\\u002fLead Data Scientist\",\"DE\\u002fLead Machine Learning Engineer\",\"IN\\u002fLead Machine Learning Engineer\",\"PT\\u002fLead Machine Learning Engineer\",\"CA\\u002fML Engineer\",\"DE\\u002fML Engineer\",\"JP\\u002fML Engineer\",\"PT\\u002fML Engineer\",\"US\\u002fML Engineer\",\"US\\u002fMLOps Engineer\",\"AU\\u002fMachine Learning Developer\",\"CA\\u002fMachine Learning Developer\",\"DE\\u002fMachine Learning Developer\",\"IQ\\u002fMachine Learning Developer\",\"TH\\u002fMachine Learning Developer\",\"US\\u002fMachine Learning Developer\",\"AE\\u002fMachine Learning Engineer\",\"AM\\u002fMachine Learning Engineer\",\"AR\\u002fMachine Learning Engineer\",\"AU\\u002fMachine Learning Engineer\",\"BE\\u002fMachine Learning Engineer\",\"CA\\u002fMachine Learning Engineer\",\"CH\\u002fMachine Learning Engineer\",\"CO\\u002fMachine Learning Engineer\",\"DE\\u002fMachine Learning Engineer\",\"ES\\u002fMachine Learning Engineer\",\"FI\\u002fMachine Learning Engineer\",\"FR\\u002fMachine Learning Engineer\",\"GB\\u002fMachine Learning Engineer\",\"HR\\u002fMachine Learning Engineer\",\"IE\\u002fMachine Learning Engineer\",\"IN\\u002fMachine Learning Engineer\",\"IR\\u002fMachine Learning Engineer\",\"IT\\u002fMachine Learning Engineer\",\"JP\\u002fMachine Learning Engineer\",\"LV\\u002fMachine Learning Engineer\",\"MX\\u002fMachine Learning Engineer\",\"NL\\u002fMachine Learning Engineer\",\"PL\\u002fMachine Learning Engineer\",\"PR\\u002fMachine Learning Engineer\",\"SI\\u002fMachine Learning Engineer\",\"US\\u002fMachine Learning Engineer\",\"FR\\u002fMachine Learning Infrastructure Engineer\",\"PT\\u002fMachine Learning Infrastructure Engineer\",\"US\\u002fMachine Learning Infrastructure Engineer\",\"CA\\u002fMachine Learning Manager\",\"US\\u002fMachine Learning Manager\",\"DE\\u002fMachine Learning Research Engineer\",\"FR\\u002fMachine Learning Research Engineer\",\"GB\\u002fMachine Learning Research Engineer\",\"IN\\u002fMachine Learning Research Engineer\",\"CA\\u002fMachine Learning Researcher\",\"UA\\u002fMachine Learning Researcher\",\"US\\u002fMachine Learning Researcher\",\"CA\\u002fMachine Learning Scientist\",\"DE\\u002fMachine Learning Scientist\",\"EG\\u002fMachine Learning Scientist\",\"JP\\u002fMachine Learning Scientist\",\"PK\\u002fMachine Learning Scientist\",\"US\\u002fMachine Learning Scientist\",\"CA\\u002fMachine Learning Software Engineer\",\"MA\\u002fMachine Learning Software Engineer\",\"US\\u002fMachine Learning Software Engineer\",\"US\\u002fManager Data Management\",\"DK\\u002fMarketing Data Analyst\",\"GB\\u002fMarketing Data Analyst\",\"SG\\u002fMarketing Data Engineer\",\"CZ\\u002fNLP Engineer\",\"PL\\u002fNLP Engineer\",\"US\\u002fNLP Engineer\",\"IN\\u002fPower BI Developer\",\"CA\\u002fPrincipal Data Analyst\",\"US\\u002fPrincipal Data Analyst\",\"IN\\u002fPrincipal Data Architect\",\"US\\u002fPrincipal Data Engineer\",\"DE\\u002fPrincipal Data Scientist\",\"ES\\u002fPrincipal Data Scientist\",\"US\\u002fPrincipal Data Scientist\",\"US\\u002fPrincipal Machine Learning Engineer\",\"HN\\u002fProduct Data Analyst\",\"IN\\u002fProduct Data Analyst\",\"US\\u002fProduct Data Analyst\",\"SG\\u002fProduct Data Scientist\",\"DE\\u002fResearch Engineer\",\"GB\\u002fResearch Engineer\",\"US\\u002fResearch Engineer\",\"AT\\u002fResearch Scientist\",\"CA\\u002fResearch Scientist\",\"CN\\u002fResearch Scientist\",\"CZ\\u002fResearch Scientist\",\"DE\\u002fResearch Scientist\",\"ES\\u002fResearch Scientist\",\"FR\\u002fResearch Scientist\",\"GB\\u002fResearch Scientist\",\"IN\\u002fResearch Scientist\",\"NL\\u002fResearch Scientist\",\"PT\\u002fResearch Scientist\",\"US\\u002fResearch Scientist\",\"AU\\u002fSoftware Data Engineer\",\"SG\\u002fSoftware Data Engineer\",\"CA\\u002fStaff Data Analyst\",\"US\\u002fStaff Data Scientist\",\"AE\",\"AL\",\"AM\",\"AR\",\"AS\",\"AT\",\"AU\",\"BA\",\"BE\",\"BO\",\"BR\",\"BS\",\"CA\",\"CF\",\"CH\",\"CL\",\"CN\",\"CO\",\"CR\",\"CZ\",\"DE\",\"DK\",\"DZ\",\"EE\",\"EG\",\"ES\",\"FI\",\"FR\",\"GB\",\"GH\",\"GR\",\"HK\",\"HN\",\"HR\",\"HU\",\"ID\",\"IE\",\"IL\",\"IN\",\"IQ\",\"IR\",\"IT\",\"JP\",\"KE\",\"LT\",\"LU\",\"LV\",\"MA\",\"MD\",\"MK\",\"MT\",\"MX\",\"MY\",\"NG\",\"NL\",\"NZ\",\"PH\",\"PK\",\"PL\",\"PR\",\"PT\",\"RO\",\"RU\",\"SE\",\"SG\",\"SI\",\"SK\",\"TH\",\"TR\",\"UA\",\"US\",\"VN\"],\"labels\":[\"3D Computer Vision Researcher\",\"3D Computer Vision Researcher\",\"3D Computer Vision Researcher\",\"3D Computer Vision Researcher\",\"AI Developer\",\"AI Developer\",\"AI Developer\",\"AI Developer\",\"AI Developer\",\"AI Developer\",\"AI Developer\",\"AI Developer\",\"AI Developer\",\"AI Programmer\",\"AI Scientist\",\"AI Scientist\",\"AI Scientist\",\"AI Scientist\",\"AI Scientist\",\"AI Scientist\",\"AI Scientist\",\"AI Scientist\",\"Analytics Engineer\",\"Analytics Engineer\",\"Analytics Engineer\",\"Analytics Engineer\",\"Applied Data Scientist\",\"Applied Data Scientist\",\"Applied Data Scientist\",\"Applied Data Scientist\",\"Applied Data Scientist\",\"Applied Data Scientist\",\"Applied Data Scientist\",\"Applied Data Scientist\",\"Applied Machine Learning Engineer\",\"Applied Machine Learning Engineer\",\"Applied Machine Learning Scientist\",\"Applied Machine Learning Scientist\",\"Applied Machine Learning Scientist\",\"Applied Machine Learning Scientist\",\"Applied Machine Learning Scientist\",\"Applied Scientist\",\"Autonomous Vehicle Technician\",\"Autonomous Vehicle Technician\",\"Azure Data Engineer\",\"BI Analyst\",\"BI Analyst\",\"BI Analyst\",\"BI Data Analyst\",\"BI Data Analyst\",\"BI Data Analyst\",\"BI Data Analyst\",\"BI Data Analyst\",\"BI Data Analyst\",\"BI Data Analyst\",\"BI Data Engineer\",\"BI Developer\",\"Big Data Architect\",\"Big Data Architect\",\"Big Data Engineer\",\"Big Data Engineer\",\"Big Data Engineer\",\"Big Data Engineer\",\"Big Data Engineer\",\"Big Data Engineer\",\"Big Data Engineer\",\"Big Data Engineer\",\"Big Data Engineer\",\"Business Data Analyst\",\"Business Data Analyst\",\"Business Data Analyst\",\"Business Data Analyst\",\"Business Data Analyst\",\"Business Data Analyst\",\"Business Data Analyst\",\"Business Data Analyst\",\"Business Intelligence Engineer\",\"Cloud Data Architect\",\"Cloud Data Engineer\",\"Cloud Data Engineer\",\"Cloud Data Engineer\",\"Cloud Database Engineer\",\"Compliance Data Analyst\",\"Computer Vision Engineer\",\"Computer Vision Engineer\",\"Computer Vision Engineer\",\"Computer Vision Engineer\",\"Computer Vision Engineer\",\"Computer Vision Engineer\",\"Computer Vision Software Engineer\",\"Computer Vision Software Engineer\",\"Computer Vision Software Engineer\",\"Computer Vision Software Engineer\",\"Data Analyst\",\"Data Analyst\",\"Data Analyst\",\"Data Analyst\",\"Data Analyst\",\"Data Analyst\",\"Data Analyst\",\"Data Analyst\",\"Data Analyst\",\"Data Analyst\",\"Data Analyst\",\"Data Analyst\",\"Data Analyst\",\"Data Analyst\",\"Data Analyst\",\"Data Analyst\",\"Data Analyst\",\"Data Analyst\",\"Data Analyst\",\"Data Analytics Consultant\",\"Data Analytics Engineer\",\"Data Analytics Engineer\",\"Data Analytics Engineer\",\"Data Analytics Engineer\",\"Data Analytics Engineer\",\"Data Analytics Lead\",\"Data Analytics Lead\",\"Data Analytics Manager\",\"Data Analytics Manager\",\"Data Analytics Specialist\",\"Data Architect\",\"Data Architect\",\"Data Architect\",\"Data DevOps Engineer\",\"Data Engineer\",\"Data Engineer\",\"Data Engineer\",\"Data Engineer\",\"Data Engineer\",\"Data Engineer\",\"Data Engineer\",\"Data Engineer\",\"Data Engineer\",\"Data Engineer\",\"Data Engineer\",\"Data Engineer\",\"Data Engineer\",\"Data Engineer\",\"Data Engineer\",\"Data Engineer\",\"Data Engineer\",\"Data Engineer\",\"Data Engineer\",\"Data Engineer\",\"Data Engineer\",\"Data Engineer\",\"Data Engineer\",\"Data Infrastructure Engineer\",\"Data Lead\",\"Data Management Specialist\",\"Data Manager\",\"Data Manager\",\"Data Manager\",\"Data Manager\",\"Data Modeler\",\"Data Operations Analyst\",\"Data Operations Engineer\",\"Data Quality Analyst\",\"Data Quality Analyst\",\"Data Science Consultant\",\"Data Science Consultant\",\"Data Science Consultant\",\"Data Science Consultant\",\"Data Science Consultant\",\"Data Science Consultant\",\"Data Science Consultant\",\"Data Science Engineer\",\"Data Science Engineer\",\"Data Science Engineer\",\"Data Science Engineer\",\"Data Science Lead\",\"Data Science Lead\",\"Data Science Manager\",\"Data Science Manager\",\"Data Science Manager\",\"Data Science Manager\",\"Data Science Manager\",\"Data Science Manager\",\"Data Science Tech Lead\",\"Data Scientist\",\"Data Scientist\",\"Data Scientist\",\"Data Scientist\",\"Data Scientist\",\"Data Scientist\",\"Data Scientist\",\"Data Scientist\",\"Data Scientist\",\"Data Scientist\",\"Data Scientist\",\"Data Scientist\",\"Data Scientist\",\"Data Scientist\",\"Data Scientist\",\"Data Scientist\",\"Data Scientist\",\"Data Scientist\",\"Data Scientist\",\"Data Scientist\",\"Data Scientist\",\"Data Scientist\",\"Data Scientist\",\"Data Scientist\",\"Data Scientist\",\"Data Scientist\",\"Data Scientist\",\"Data Scientist\",\"Data Scientist\",\"Data Scientist\",\"Data Scientist\",\"Data Scientist\",\"Data Scientist Lead\",\"Data Scientist Lead\",\"Data Specialist\",\"Data Strategist\",\"Deep Learning Engineer\",\"Deep Learning Engineer\",\"Deep Learning Researcher\",\"Director of Data Science\",\"Director of Data Science\",\"Director of Data Science\",\"Director of Data Science\",\"Director of Data Science\",\"Director of Data Science\",\"ETL Developer\",\"ETL Developer\",\"ETL Engineer\",\"Finance Data Analyst\",\"Financial Data Analyst\",\"Head of Data\",\"Head of Data\",\"Head of Data\",\"Head of Data\",\"Head of Data\",\"Head of Data Science\",\"Head of Data Science\",\"Head of Data Science\",\"Head of Data Science\",\"Head of Machine Learning\",\"Insight Analyst\",\"Lead Data Analyst\",\"Lead Data Analyst\",\"Lead Data Engineer\",\"Lead Data Engineer\",\"Lead Data Engineer\",\"Lead Data Engineer\",\"Lead Data Scientist\",\"Lead Data Scientist\",\"Lead Data Scientist\",\"Lead Data Scientist\",\"Lead Data Scientist\",\"Lead Data Scientist\",\"Lead Machine Learning Engineer\",\"Lead Machine Learning Engineer\",\"Lead Machine Learning Engineer\",\"ML Engineer\",\"ML Engineer\",\"ML Engineer\",\"ML Engineer\",\"ML Engineer\",\"MLOps Engineer\",\"Machine Learning Developer\",\"Machine Learning Developer\",\"Machine Learning Developer\",\"Machine Learning Developer\",\"Machine Learning Developer\",\"Machine Learning Developer\",\"Machine Learning Engineer\",\"Machine Learning Engineer\",\"Machine Learning Engineer\",\"Machine Learning Engineer\",\"Machine Learning Engineer\",\"Machine Learning Engineer\",\"Machine Learning Engineer\",\"Machine Learning Engineer\",\"Machine Learning Engineer\",\"Machine Learning Engineer\",\"Machine Learning Engineer\",\"Machine Learning Engineer\",\"Machine Learning Engineer\",\"Machine Learning Engineer\",\"Machine Learning Engineer\",\"Machine Learning Engineer\",\"Machine Learning Engineer\",\"Machine Learning Engineer\",\"Machine Learning Engineer\",\"Machine Learning Engineer\",\"Machine Learning Engineer\",\"Machine Learning Engineer\",\"Machine Learning Engineer\",\"Machine Learning Engineer\",\"Machine Learning Engineer\",\"Machine Learning Engineer\",\"Machine Learning Infrastructure Engineer\",\"Machine Learning Infrastructure Engineer\",\"Machine Learning Infrastructure Engineer\",\"Machine Learning Manager\",\"Machine Learning Manager\",\"Machine Learning Research Engineer\",\"Machine Learning Research Engineer\",\"Machine Learning Research Engineer\",\"Machine Learning Research Engineer\",\"Machine Learning Researcher\",\"Machine Learning Researcher\",\"Machine Learning Researcher\",\"Machine Learning Scientist\",\"Machine Learning Scientist\",\"Machine Learning Scientist\",\"Machine Learning Scientist\",\"Machine Learning Scientist\",\"Machine Learning Scientist\",\"Machine Learning Software Engineer\",\"Machine Learning Software Engineer\",\"Machine Learning Software Engineer\",\"Manager Data Management\",\"Marketing Data Analyst\",\"Marketing Data Analyst\",\"Marketing Data Engineer\",\"NLP Engineer\",\"NLP Engineer\",\"NLP Engineer\",\"Power BI Developer\",\"Principal Data Analyst\",\"Principal Data Analyst\",\"Principal Data Architect\",\"Principal Data Engineer\",\"Principal Data Scientist\",\"Principal Data Scientist\",\"Principal Data Scientist\",\"Principal Machine Learning Engineer\",\"Product Data Analyst\",\"Product Data Analyst\",\"Product Data Analyst\",\"Product Data Scientist\",\"Research Engineer\",\"Research Engineer\",\"Research Engineer\",\"Research Scientist\",\"Research Scientist\",\"Research Scientist\",\"Research Scientist\",\"Research Scientist\",\"Research Scientist\",\"Research Scientist\",\"Research Scientist\",\"Research Scientist\",\"Research Scientist\",\"Research Scientist\",\"Research Scientist\",\"Software Data Engineer\",\"Software Data Engineer\",\"Staff Data Analyst\",\"Staff Data Scientist\",\"AE\",\"AL\",\"AM\",\"AR\",\"AS\",\"AT\",\"AU\",\"BA\",\"BE\",\"BO\",\"BR\",\"BS\",\"CA\",\"CF\",\"CH\",\"CL\",\"CN\",\"CO\",\"CR\",\"CZ\",\"DE\",\"DK\",\"DZ\",\"EE\",\"EG\",\"ES\",\"FI\",\"FR\",\"GB\",\"GH\",\"GR\",\"HK\",\"HN\",\"HR\",\"HU\",\"ID\",\"IE\",\"IL\",\"IN\",\"IQ\",\"IR\",\"IT\",\"JP\",\"KE\",\"LT\",\"LU\",\"LV\",\"MA\",\"MD\",\"MK\",\"MT\",\"MX\",\"MY\",\"NG\",\"NL\",\"NZ\",\"PH\",\"PK\",\"PL\",\"PR\",\"PT\",\"RO\",\"RU\",\"SE\",\"SG\",\"SI\",\"SK\",\"TH\",\"TR\",\"UA\",\"US\",\"VN\"],\"name\":\"\",\"parents\":[\"AL\",\"AS\",\"CR\",\"IN\",\"BA\",\"CA\",\"DE\",\"FI\",\"IN\",\"MK\",\"SE\",\"UA\",\"US\",\"AU\",\"AS\",\"CA\",\"CO\",\"DK\",\"ES\",\"GH\",\"IL\",\"US\",\"BO\",\"BR\",\"GB\",\"US\",\"AT\",\"CA\",\"FI\",\"GB\",\"IN\",\"KE\",\"PK\",\"US\",\"DE\",\"US\",\"CZ\",\"DE\",\"GB\",\"IN\",\"US\",\"US\",\"BS\",\"GH\",\"NL\",\"BR\",\"NG\",\"US\",\"AU\",\"BR\",\"DE\",\"FR\",\"IN\",\"KE\",\"US\",\"US\",\"US\",\"CA\",\"GB\",\"CA\",\"CH\",\"ES\",\"GB\",\"IN\",\"MD\",\"RO\",\"SE\",\"US\",\"AS\",\"BR\",\"CA\",\"ES\",\"GR\",\"IN\",\"LU\",\"US\",\"US\",\"US\",\"SG\",\"SK\",\"US\",\"US\",\"NG\",\"BR\",\"DK\",\"FR\",\"IN\",\"LU\",\"US\",\"AU\",\"CA\",\"DK\",\"US\",\"AR\",\"AU\",\"BR\",\"CA\",\"CF\",\"DE\",\"ES\",\"FR\",\"GB\",\"GR\",\"HR\",\"ID\",\"IN\",\"NG\",\"PH\",\"PK\",\"PT\",\"SG\",\"US\",\"US\",\"AR\",\"DE\",\"GB\",\"PK\",\"US\",\"SG\",\"US\",\"NL\",\"US\",\"US\",\"CA\",\"GB\",\"US\",\"FR\",\"AT\",\"AU\",\"BR\",\"CA\",\"DE\",\"ES\",\"FR\",\"GB\",\"GR\",\"IE\",\"IN\",\"JP\",\"LT\",\"MT\",\"MX\",\"NL\",\"PL\",\"PR\",\"PT\",\"SI\",\"TR\",\"US\",\"VN\",\"US\",\"US\",\"IT\",\"CA\",\"CO\",\"GB\",\"US\",\"US\",\"US\",\"US\",\"NG\",\"US\",\"DE\",\"ES\",\"GB\",\"IN\",\"IT\",\"TH\",\"US\",\"CA\",\"GR\",\"MX\",\"US\",\"GB\",\"US\",\"AU\",\"FR\",\"IN\",\"MX\",\"RU\",\"US\",\"US\",\"AT\",\"AU\",\"BE\",\"BR\",\"CA\",\"CH\",\"CL\",\"DE\",\"DZ\",\"EE\",\"ES\",\"FR\",\"GB\",\"HK\",\"HU\",\"ID\",\"IE\",\"IL\",\"IN\",\"IT\",\"LU\",\"LV\",\"MX\",\"MY\",\"NG\",\"NL\",\"PL\",\"RO\",\"TH\",\"TR\",\"UA\",\"US\",\"AT\",\"US\",\"US\",\"CA\",\"GB\",\"US\",\"DE\",\"CA\",\"DE\",\"FR\",\"JP\",\"PL\",\"US\",\"GR\",\"US\",\"GB\",\"GB\",\"US\",\"EE\",\"PT\",\"RU\",\"SI\",\"US\",\"GB\",\"IN\",\"RU\",\"US\",\"IN\",\"GB\",\"IN\",\"US\",\"CA\",\"GB\",\"NZ\",\"US\",\"AE\",\"GB\",\"IE\",\"IN\",\"PT\",\"US\",\"DE\",\"IN\",\"PT\",\"CA\",\"DE\",\"JP\",\"PT\",\"US\",\"US\",\"AU\",\"CA\",\"DE\",\"IQ\",\"TH\",\"US\",\"AE\",\"AM\",\"AR\",\"AU\",\"BE\",\"CA\",\"CH\",\"CO\",\"DE\",\"ES\",\"FI\",\"FR\",\"GB\",\"HR\",\"IE\",\"IN\",\"IR\",\"IT\",\"JP\",\"LV\",\"MX\",\"NL\",\"PL\",\"PR\",\"SI\",\"US\",\"FR\",\"PT\",\"US\",\"CA\",\"US\",\"DE\",\"FR\",\"GB\",\"IN\",\"CA\",\"UA\",\"US\",\"CA\",\"DE\",\"EG\",\"JP\",\"PK\",\"US\",\"CA\",\"MA\",\"US\",\"US\",\"DK\",\"GB\",\"SG\",\"CZ\",\"PL\",\"US\",\"IN\",\"CA\",\"US\",\"IN\",\"US\",\"DE\",\"ES\",\"US\",\"US\",\"HN\",\"IN\",\"US\",\"SG\",\"DE\",\"GB\",\"US\",\"AT\",\"CA\",\"CN\",\"CZ\",\"DE\",\"ES\",\"FR\",\"GB\",\"IN\",\"NL\",\"PT\",\"US\",\"AU\",\"SG\",\"CA\",\"US\",\"\",\"\",\"\",\"\",\"\",\"\",\"\",\"\",\"\",\"\",\"\",\"\",\"\",\"\",\"\",\"\",\"\",\"\",\"\",\"\",\"\",\"\",\"\",\"\",\"\",\"\",\"\",\"\",\"\",\"\",\"\",\"\",\"\",\"\",\"\",\"\",\"\",\"\",\"\",\"\",\"\",\"\",\"\",\"\",\"\",\"\",\"\",\"\",\"\",\"\",\"\",\"\",\"\",\"\",\"\",\"\",\"\",\"\",\"\",\"\",\"\",\"\",\"\",\"\",\"\",\"\",\"\",\"\",\"\",\"\",\"\",\"\"],\"values\":[10000,20000,50000,5409,120000,275000,279003,75020,300000,6304,80000,168000,200000,110000,18053,200000,125000,45896,125151,30000,423834,794000,7500,126000,930229,14630240,50000,54238,68318,110037,20670,80000,40000,714000,69751,130000,30469,42923,77119,30523,1132400,11035340,45555,7000,100000,126000,200000,618000,98418,6270,183267,105066,8050,9272,496259,60000,1688000,99703,151902,161311,5882,48289,223071,38839,18000,60000,130000,70000,50000,9289,69133,21461,12877,36119,59102,733000,696600,250000,89294,12608,160000,775000,30000,42907,28609,58837,15897,10000,2427400,150000,53654,19073,165746,50000,213028,7799,1479049,97218,63831,727750,134229,1956664,93546,182285,15000,112950,10000,50000,8000,22809,65257,61244916,163000,13000,79197,50000,20000,245000,17509,405000,133000,2988340,190000,283100,230000,15819991,53654,74130,75050,120000,1185200,379559,1236672,135280,4534515,473417,101943,131683,41689,189624,28369,165511,175020,28476,335000,322694,123405,40119,138587808,12000,1050310,425000,68293,125976,113000,127311,3015500,237800,362250,984850,100000,497180,217497,97058,121902,5707,24165,29453,1592500,127221,40189,60000,240000,133675,1117000,133766,152000,94665,240000,106000,10367738,375000,152704,166342,136061,170423,2948476,241495,40038,932734,100000,63312,1205647,867575,2685012,65062,53419,53416,462059,119059,350516,21669,62726,115893,30000,40000,50000,333059,33609,53654,24740,55171,13400,106683332,89306,183000,1675000,162000,135446,520000,123405,317723,271872,57786,168000,153667,1177500,105066,1209470,142789,61896,305000,31520,75116,230000,102839,1399100,287755,60795,85000,1011775,76309,93572,37847,325000,115222,103160,125000,492000,115000,61566,172309,97293,29944,538868,84053,95386,69344,370000,15966,141075,21013,4835929,516000,40000,153628,33000,100000,15000,180000,185000,50000,12000,83864,171398,1190300,161233,21844,737440,47282,63040,273172,1893359,45618,68293,131591,100000,51064,74000,115893,476000,156466,46597,335000,24823,38190343,182425,105865,1284840,117104,350000,66192,20000,72914,12171,105236,50000,480000,225000,34672,22800,260000,12000,3689250,827200,10000,1087000,125000,88654,200000,66970,5132,44365,880000,5409,75000,170000,38154,385000,477522,85847,1022000,190000,20000,22486,240000,8000,642156,180000,5212854,61989,741365,100000,69999,210133,845900,208693,381195,23000,126053,60757,10390480,50000,75020,15000,105000,300000,10000,50000,75000,88053,428129,1120468,120000,307459,7500,608688,45555,11476839,97218,408610,40038,100000,259844,50000,105600,4944173,182232,100000,94832,22800,4441057,206378,2248717,14945089,37000,725095,65062,20000,227903,53419,68416,804604,542893,1751469,100000,100000,165191,684764,89272,189624,131828,231786,10000,18000,6304,28369,971511,40000,390000,1023598,125000,50000,80000,306714,670000,707542,113654,421000,210000,322050,251067,12608,69193,95290,231400,461538909,12000],\"type\":\"sunburst\"}],                        {\"template\":{\"data\":{\"histogram2dcontour\":[{\"type\":\"histogram2dcontour\",\"colorbar\":{\"outlinewidth\":0,\"ticks\":\"\"},\"colorscale\":[[0.0,\"#0d0887\"],[0.1111111111111111,\"#46039f\"],[0.2222222222222222,\"#7201a8\"],[0.3333333333333333,\"#9c179e\"],[0.4444444444444444,\"#bd3786\"],[0.5555555555555556,\"#d8576b\"],[0.6666666666666666,\"#ed7953\"],[0.7777777777777778,\"#fb9f3a\"],[0.8888888888888888,\"#fdca26\"],[1.0,\"#f0f921\"]]}],\"choropleth\":[{\"type\":\"choropleth\",\"colorbar\":{\"outlinewidth\":0,\"ticks\":\"\"}}],\"histogram2d\":[{\"type\":\"histogram2d\",\"colorbar\":{\"outlinewidth\":0,\"ticks\":\"\"},\"colorscale\":[[0.0,\"#0d0887\"],[0.1111111111111111,\"#46039f\"],[0.2222222222222222,\"#7201a8\"],[0.3333333333333333,\"#9c179e\"],[0.4444444444444444,\"#bd3786\"],[0.5555555555555556,\"#d8576b\"],[0.6666666666666666,\"#ed7953\"],[0.7777777777777778,\"#fb9f3a\"],[0.8888888888888888,\"#fdca26\"],[1.0,\"#f0f921\"]]}],\"heatmap\":[{\"type\":\"heatmap\",\"colorbar\":{\"outlinewidth\":0,\"ticks\":\"\"},\"colorscale\":[[0.0,\"#0d0887\"],[0.1111111111111111,\"#46039f\"],[0.2222222222222222,\"#7201a8\"],[0.3333333333333333,\"#9c179e\"],[0.4444444444444444,\"#bd3786\"],[0.5555555555555556,\"#d8576b\"],[0.6666666666666666,\"#ed7953\"],[0.7777777777777778,\"#fb9f3a\"],[0.8888888888888888,\"#fdca26\"],[1.0,\"#f0f921\"]]}],\"heatmapgl\":[{\"type\":\"heatmapgl\",\"colorbar\":{\"outlinewidth\":0,\"ticks\":\"\"},\"colorscale\":[[0.0,\"#0d0887\"],[0.1111111111111111,\"#46039f\"],[0.2222222222222222,\"#7201a8\"],[0.3333333333333333,\"#9c179e\"],[0.4444444444444444,\"#bd3786\"],[0.5555555555555556,\"#d8576b\"],[0.6666666666666666,\"#ed7953\"],[0.7777777777777778,\"#fb9f3a\"],[0.8888888888888888,\"#fdca26\"],[1.0,\"#f0f921\"]]}],\"contourcarpet\":[{\"type\":\"contourcarpet\",\"colorbar\":{\"outlinewidth\":0,\"ticks\":\"\"}}],\"contour\":[{\"type\":\"contour\",\"colorbar\":{\"outlinewidth\":0,\"ticks\":\"\"},\"colorscale\":[[0.0,\"#0d0887\"],[0.1111111111111111,\"#46039f\"],[0.2222222222222222,\"#7201a8\"],[0.3333333333333333,\"#9c179e\"],[0.4444444444444444,\"#bd3786\"],[0.5555555555555556,\"#d8576b\"],[0.6666666666666666,\"#ed7953\"],[0.7777777777777778,\"#fb9f3a\"],[0.8888888888888888,\"#fdca26\"],[1.0,\"#f0f921\"]]}],\"surface\":[{\"type\":\"surface\",\"colorbar\":{\"outlinewidth\":0,\"ticks\":\"\"},\"colorscale\":[[0.0,\"#0d0887\"],[0.1111111111111111,\"#46039f\"],[0.2222222222222222,\"#7201a8\"],[0.3333333333333333,\"#9c179e\"],[0.4444444444444444,\"#bd3786\"],[0.5555555555555556,\"#d8576b\"],[0.6666666666666666,\"#ed7953\"],[0.7777777777777778,\"#fb9f3a\"],[0.8888888888888888,\"#fdca26\"],[1.0,\"#f0f921\"]]}],\"mesh3d\":[{\"type\":\"mesh3d\",\"colorbar\":{\"outlinewidth\":0,\"ticks\":\"\"}}],\"scatter\":[{\"fillpattern\":{\"fillmode\":\"overlay\",\"size\":10,\"solidity\":0.2},\"type\":\"scatter\"}],\"parcoords\":[{\"type\":\"parcoords\",\"line\":{\"colorbar\":{\"outlinewidth\":0,\"ticks\":\"\"}}}],\"scatterpolargl\":[{\"type\":\"scatterpolargl\",\"marker\":{\"colorbar\":{\"outlinewidth\":0,\"ticks\":\"\"}}}],\"bar\":[{\"error_x\":{\"color\":\"#2a3f5f\"},\"error_y\":{\"color\":\"#2a3f5f\"},\"marker\":{\"line\":{\"color\":\"#E5ECF6\",\"width\":0.5},\"pattern\":{\"fillmode\":\"overlay\",\"size\":10,\"solidity\":0.2}},\"type\":\"bar\"}],\"scattergeo\":[{\"type\":\"scattergeo\",\"marker\":{\"colorbar\":{\"outlinewidth\":0,\"ticks\":\"\"}}}],\"scatterpolar\":[{\"type\":\"scatterpolar\",\"marker\":{\"colorbar\":{\"outlinewidth\":0,\"ticks\":\"\"}}}],\"histogram\":[{\"marker\":{\"pattern\":{\"fillmode\":\"overlay\",\"size\":10,\"solidity\":0.2}},\"type\":\"histogram\"}],\"scattergl\":[{\"type\":\"scattergl\",\"marker\":{\"colorbar\":{\"outlinewidth\":0,\"ticks\":\"\"}}}],\"scatter3d\":[{\"type\":\"scatter3d\",\"line\":{\"colorbar\":{\"outlinewidth\":0,\"ticks\":\"\"}},\"marker\":{\"colorbar\":{\"outlinewidth\":0,\"ticks\":\"\"}}}],\"scattermapbox\":[{\"type\":\"scattermapbox\",\"marker\":{\"colorbar\":{\"outlinewidth\":0,\"ticks\":\"\"}}}],\"scatterternary\":[{\"type\":\"scatterternary\",\"marker\":{\"colorbar\":{\"outlinewidth\":0,\"ticks\":\"\"}}}],\"scattercarpet\":[{\"type\":\"scattercarpet\",\"marker\":{\"colorbar\":{\"outlinewidth\":0,\"ticks\":\"\"}}}],\"carpet\":[{\"aaxis\":{\"endlinecolor\":\"#2a3f5f\",\"gridcolor\":\"white\",\"linecolor\":\"white\",\"minorgridcolor\":\"white\",\"startlinecolor\":\"#2a3f5f\"},\"baxis\":{\"endlinecolor\":\"#2a3f5f\",\"gridcolor\":\"white\",\"linecolor\":\"white\",\"minorgridcolor\":\"white\",\"startlinecolor\":\"#2a3f5f\"},\"type\":\"carpet\"}],\"table\":[{\"cells\":{\"fill\":{\"color\":\"#EBF0F8\"},\"line\":{\"color\":\"white\"}},\"header\":{\"fill\":{\"color\":\"#C8D4E3\"},\"line\":{\"color\":\"white\"}},\"type\":\"table\"}],\"barpolar\":[{\"marker\":{\"line\":{\"color\":\"#E5ECF6\",\"width\":0.5},\"pattern\":{\"fillmode\":\"overlay\",\"size\":10,\"solidity\":0.2}},\"type\":\"barpolar\"}],\"pie\":[{\"automargin\":true,\"type\":\"pie\"}]},\"layout\":{\"autotypenumbers\":\"strict\",\"colorway\":[\"#636efa\",\"#EF553B\",\"#00cc96\",\"#ab63fa\",\"#FFA15A\",\"#19d3f3\",\"#FF6692\",\"#B6E880\",\"#FF97FF\",\"#FECB52\"],\"font\":{\"color\":\"#2a3f5f\"},\"hovermode\":\"closest\",\"hoverlabel\":{\"align\":\"left\"},\"paper_bgcolor\":\"white\",\"plot_bgcolor\":\"#E5ECF6\",\"polar\":{\"bgcolor\":\"#E5ECF6\",\"angularaxis\":{\"gridcolor\":\"white\",\"linecolor\":\"white\",\"ticks\":\"\"},\"radialaxis\":{\"gridcolor\":\"white\",\"linecolor\":\"white\",\"ticks\":\"\"}},\"ternary\":{\"bgcolor\":\"#E5ECF6\",\"aaxis\":{\"gridcolor\":\"white\",\"linecolor\":\"white\",\"ticks\":\"\"},\"baxis\":{\"gridcolor\":\"white\",\"linecolor\":\"white\",\"ticks\":\"\"},\"caxis\":{\"gridcolor\":\"white\",\"linecolor\":\"white\",\"ticks\":\"\"}},\"coloraxis\":{\"colorbar\":{\"outlinewidth\":0,\"ticks\":\"\"}},\"colorscale\":{\"sequential\":[[0.0,\"#0d0887\"],[0.1111111111111111,\"#46039f\"],[0.2222222222222222,\"#7201a8\"],[0.3333333333333333,\"#9c179e\"],[0.4444444444444444,\"#bd3786\"],[0.5555555555555556,\"#d8576b\"],[0.6666666666666666,\"#ed7953\"],[0.7777777777777778,\"#fb9f3a\"],[0.8888888888888888,\"#fdca26\"],[1.0,\"#f0f921\"]],\"sequentialminus\":[[0.0,\"#0d0887\"],[0.1111111111111111,\"#46039f\"],[0.2222222222222222,\"#7201a8\"],[0.3333333333333333,\"#9c179e\"],[0.4444444444444444,\"#bd3786\"],[0.5555555555555556,\"#d8576b\"],[0.6666666666666666,\"#ed7953\"],[0.7777777777777778,\"#fb9f3a\"],[0.8888888888888888,\"#fdca26\"],[1.0,\"#f0f921\"]],\"diverging\":[[0,\"#8e0152\"],[0.1,\"#c51b7d\"],[0.2,\"#de77ae\"],[0.3,\"#f1b6da\"],[0.4,\"#fde0ef\"],[0.5,\"#f7f7f7\"],[0.6,\"#e6f5d0\"],[0.7,\"#b8e186\"],[0.8,\"#7fbc41\"],[0.9,\"#4d9221\"],[1,\"#276419\"]]},\"xaxis\":{\"gridcolor\":\"white\",\"linecolor\":\"white\",\"ticks\":\"\",\"title\":{\"standoff\":15},\"zerolinecolor\":\"white\",\"automargin\":true,\"zerolinewidth\":2},\"yaxis\":{\"gridcolor\":\"white\",\"linecolor\":\"white\",\"ticks\":\"\",\"title\":{\"standoff\":15},\"zerolinecolor\":\"white\",\"automargin\":true,\"zerolinewidth\":2},\"scene\":{\"xaxis\":{\"backgroundcolor\":\"#E5ECF6\",\"gridcolor\":\"white\",\"linecolor\":\"white\",\"showbackground\":true,\"ticks\":\"\",\"zerolinecolor\":\"white\",\"gridwidth\":2},\"yaxis\":{\"backgroundcolor\":\"#E5ECF6\",\"gridcolor\":\"white\",\"linecolor\":\"white\",\"showbackground\":true,\"ticks\":\"\",\"zerolinecolor\":\"white\",\"gridwidth\":2},\"zaxis\":{\"backgroundcolor\":\"#E5ECF6\",\"gridcolor\":\"white\",\"linecolor\":\"white\",\"showbackground\":true,\"ticks\":\"\",\"zerolinecolor\":\"white\",\"gridwidth\":2}},\"shapedefaults\":{\"line\":{\"color\":\"#2a3f5f\"}},\"annotationdefaults\":{\"arrowcolor\":\"#2a3f5f\",\"arrowhead\":0,\"arrowwidth\":1},\"geo\":{\"bgcolor\":\"white\",\"landcolor\":\"#E5ECF6\",\"subunitcolor\":\"white\",\"showland\":true,\"showlakes\":true,\"lakecolor\":\"white\"},\"title\":{\"x\":0.05},\"mapbox\":{\"style\":\"light\"}}},\"legend\":{\"tracegroupgap\":0},\"title\":{\"text\":\"Hierarchical Pie Chart of Data Science Jobs\"}},                        {\"responsive\": true}                    ).then(function(){\n",
       "                            \n",
       "var gd = document.getElementById('9a589498-5d12-4969-9727-7be3f8be637f');\n",
       "var x = new MutationObserver(function (mutations, observer) {{\n",
       "        var display = window.getComputedStyle(gd).display;\n",
       "        if (!display || display === 'none') {{\n",
       "            console.log([gd, 'removed!']);\n",
       "            Plotly.purge(gd);\n",
       "            observer.disconnect();\n",
       "        }}\n",
       "}});\n",
       "\n",
       "// Listen for the removal of the full notebook cells\n",
       "var notebookContainer = gd.closest('#notebook-container');\n",
       "if (notebookContainer) {{\n",
       "    x.observe(notebookContainer, {childList: true});\n",
       "}}\n",
       "\n",
       "// Listen for the clearing of the current output cell\n",
       "var outputEl = gd.closest('.output');\n",
       "if (outputEl) {{\n",
       "    x.observe(outputEl, {childList: true});\n",
       "}}\n",
       "\n",
       "                        })                };                });            </script>        </div>"
      ]
     },
     "metadata": {},
     "output_type": "display_data"
    }
   ],
   "source": [
    "import plotly.express as px\n",
    "\n",
    "fig = px.sunburst(df, path=['company_location', 'job_title'], values='salary_in_usd', title='Hierarchical Pie Chart of Data Science Jobs')\n",
    "fig.show()"
   ]
  },
  {
   "cell_type": "code",
   "execution_count": 53,
   "id": "304b057c-83bb-4ab0-b2f8-48602622069a",
   "metadata": {
    "tags": []
   },
   "outputs": [
    {
     "data": {
      "text/html": [
       "<div>\n",
       "<style scoped>\n",
       "    .dataframe tbody tr th:only-of-type {\n",
       "        vertical-align: middle;\n",
       "    }\n",
       "\n",
       "    .dataframe tbody tr th {\n",
       "        vertical-align: top;\n",
       "    }\n",
       "\n",
       "    .dataframe thead th {\n",
       "        text-align: right;\n",
       "    }\n",
       "</style>\n",
       "<table border=\"1\" class=\"dataframe\">\n",
       "  <thead>\n",
       "    <tr style=\"text-align: right;\">\n",
       "      <th></th>\n",
       "      <th>mean</th>\n",
       "      <th>count</th>\n",
       "    </tr>\n",
       "    <tr>\n",
       "      <th>job_title</th>\n",
       "      <th></th>\n",
       "      <th></th>\n",
       "    </tr>\n",
       "  </thead>\n",
       "  <tbody>\n",
       "    <tr>\n",
       "      <th>Data Engineer</th>\n",
       "      <td>142785.734615</td>\n",
       "      <td>1040</td>\n",
       "    </tr>\n",
       "    <tr>\n",
       "      <th>Data Scientist</th>\n",
       "      <td>140869.765476</td>\n",
       "      <td>840</td>\n",
       "    </tr>\n",
       "    <tr>\n",
       "      <th>Data Analyst</th>\n",
       "      <td>108716.227124</td>\n",
       "      <td>612</td>\n",
       "    </tr>\n",
       "    <tr>\n",
       "      <th>Machine Learning Engineer</th>\n",
       "      <td>154690.726644</td>\n",
       "      <td>289</td>\n",
       "    </tr>\n",
       "    <tr>\n",
       "      <th>Analytics Engineer</th>\n",
       "      <td>152368.631068</td>\n",
       "      <td>103</td>\n",
       "    </tr>\n",
       "    <tr>\n",
       "      <th>Data Architect</th>\n",
       "      <td>161713.772277</td>\n",
       "      <td>101</td>\n",
       "    </tr>\n",
       "    <tr>\n",
       "      <th>Research Scientist</th>\n",
       "      <td>161214.195122</td>\n",
       "      <td>82</td>\n",
       "    </tr>\n",
       "    <tr>\n",
       "      <th>Data Science Manager</th>\n",
       "      <td>191278.775862</td>\n",
       "      <td>58</td>\n",
       "    </tr>\n",
       "    <tr>\n",
       "      <th>Applied Scientist</th>\n",
       "      <td>190264.482759</td>\n",
       "      <td>58</td>\n",
       "    </tr>\n",
       "    <tr>\n",
       "      <th>Research Engineer</th>\n",
       "      <td>163108.378378</td>\n",
       "      <td>37</td>\n",
       "    </tr>\n",
       "  </tbody>\n",
       "</table>\n",
       "</div>"
      ],
      "text/plain": [
       "                                    mean  count\n",
       "job_title                                      \n",
       "Data Engineer              142785.734615   1040\n",
       "Data Scientist             140869.765476    840\n",
       "Data Analyst               108716.227124    612\n",
       "Machine Learning Engineer  154690.726644    289\n",
       "Analytics Engineer         152368.631068    103\n",
       "Data Architect             161713.772277    101\n",
       "Research Scientist         161214.195122     82\n",
       "Data Science Manager       191278.775862     58\n",
       "Applied Scientist          190264.482759     58\n",
       "Research Engineer          163108.378378     37"
      ]
     },
     "execution_count": 53,
     "metadata": {},
     "output_type": "execute_result"
    }
   ],
   "source": [
    "# Let's look at the top 10 data science jobs\n",
    "jobs = df.groupby('job_title')['salary_in_usd'].agg(['mean', 'count'])\n",
    "trend = jobs.sort_values(by='count', ascending=False)\n",
    "trend[:10]"
   ]
  },
  {
   "cell_type": "code",
   "execution_count": 91,
   "id": "70662211-2f43-4d21-9ba7-a79f861d5ebd",
   "metadata": {
    "tags": []
   },
   "outputs": [
    {
     "data": {
      "text/html": [
       "<div>\n",
       "<style scoped>\n",
       "    .dataframe tbody tr th:only-of-type {\n",
       "        vertical-align: middle;\n",
       "    }\n",
       "\n",
       "    .dataframe tbody tr th {\n",
       "        vertical-align: top;\n",
       "    }\n",
       "\n",
       "    .dataframe thead th {\n",
       "        text-align: right;\n",
       "    }\n",
       "</style>\n",
       "<table border=\"1\" class=\"dataframe\">\n",
       "  <thead>\n",
       "    <tr style=\"text-align: right;\">\n",
       "      <th></th>\n",
       "      <th>jobs</th>\n",
       "      <th>values</th>\n",
       "    </tr>\n",
       "  </thead>\n",
       "  <tbody>\n",
       "    <tr>\n",
       "      <th>0</th>\n",
       "      <td>Data Engineer</td>\n",
       "      <td>1040</td>\n",
       "    </tr>\n",
       "    <tr>\n",
       "      <th>1</th>\n",
       "      <td>Data Scientist</td>\n",
       "      <td>840</td>\n",
       "    </tr>\n",
       "    <tr>\n",
       "      <th>2</th>\n",
       "      <td>Data Analyst</td>\n",
       "      <td>612</td>\n",
       "    </tr>\n",
       "    <tr>\n",
       "      <th>3</th>\n",
       "      <td>Machine Learning Engineer</td>\n",
       "      <td>289</td>\n",
       "    </tr>\n",
       "    <tr>\n",
       "      <th>4</th>\n",
       "      <td>Analytics Engineer</td>\n",
       "      <td>103</td>\n",
       "    </tr>\n",
       "    <tr>\n",
       "      <th>5</th>\n",
       "      <td>Data Architect</td>\n",
       "      <td>101</td>\n",
       "    </tr>\n",
       "    <tr>\n",
       "      <th>6</th>\n",
       "      <td>Research Scientist</td>\n",
       "      <td>82</td>\n",
       "    </tr>\n",
       "    <tr>\n",
       "      <th>7</th>\n",
       "      <td>Data Science Manager</td>\n",
       "      <td>58</td>\n",
       "    </tr>\n",
       "    <tr>\n",
       "      <th>8</th>\n",
       "      <td>Applied Scientist</td>\n",
       "      <td>58</td>\n",
       "    </tr>\n",
       "    <tr>\n",
       "      <th>9</th>\n",
       "      <td>Research Engineer</td>\n",
       "      <td>37</td>\n",
       "    </tr>\n",
       "  </tbody>\n",
       "</table>\n",
       "</div>"
      ],
      "text/plain": [
       "                        jobs  values\n",
       "0              Data Engineer    1040\n",
       "1             Data Scientist     840\n",
       "2               Data Analyst     612\n",
       "3  Machine Learning Engineer     289\n",
       "4         Analytics Engineer     103\n",
       "5             Data Architect     101\n",
       "6         Research Scientist      82\n",
       "7       Data Science Manager      58\n",
       "8          Applied Scientist      58\n",
       "9          Research Engineer      37"
      ]
     },
     "execution_count": 91,
     "metadata": {},
     "output_type": "execute_result"
    }
   ],
   "source": [
    "top_ten = pd.DataFrame({ 'jobs': trend.index, 'values': trend['count']})[:10]\n",
    "top_ten.reset_index(drop=True)"
   ]
  },
  {
   "cell_type": "code",
   "execution_count": 92,
   "id": "25f30e0e-5e40-4b55-b849-97e30e86e690",
   "metadata": {
    "tags": []
   },
   "outputs": [
    {
     "data": {
      "text/plain": [
       "Text(0, 0.5, 'Job Titles')"
      ]
     },
     "execution_count": 92,
     "metadata": {},
     "output_type": "execute_result"
    },
    {
     "data": {
      "image/png": "[encoded data removed]",
      "text/plain": [
       "<Figure size 640x480 with 1 Axes>"
      ]
     },
     "metadata": {},
     "output_type": "display_data"
    }
   ],
   "source": [
    "sns.barplot(x=top_ten['values'], y= top_ten.jobs, orient='h', width=0.8)\n",
    "plt.title('Top Ten Data Science Jobs')\n",
    "plt.xlabel('Total number of employees')\n",
    "plt.ylabel('Job Titles')"
   ]
  },
  {
   "cell_type": "raw",
   "id": "a48d9c8d-ac4e-4b2e-88a2-6c1d45b5ee05",
   "metadata": {},
   "source": [
    "Data Engineering job is the first on the list with the hghest number of Employees"
   ]
  },
  {
   "cell_type": "code",
   "execution_count": null,
   "id": "4208431d-ec05-4100-9dde-2d4c6baf2ec4",
   "metadata": {},
   "outputs": [],
   "source": []
  }
 ],
 "metadata": {
  "kernelspec": {
   "display_name": "Python 3 (ipykernel)",
   "language": "python",
   "name": "python3"
  },
  "language_info": {
   "codemirror_mode": {
    "name": "ipython",
    "version": 3
   },
   "file_extension": ".py",
   "mimetype": "text/x-python",
   "name": "python",
   "nbconvert_exporter": "python",
   "pygments_lexer": "ipython3",
   "version": "3.10.9"
  }
 },
 "nbformat": 4,
 "nbformat_minor": 5
}
